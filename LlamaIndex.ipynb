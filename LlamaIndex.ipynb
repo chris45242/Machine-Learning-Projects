{
  "cells": [
    {
      "cell_type": "markdown",
      "id": "fDCAa5PbSbSc",
      "metadata": {
        "id": "fDCAa5PbSbSc"
      },
      "source": [
        "#LlamaIndex"
      ]
    },
    {
      "cell_type": "markdown",
      "id": "34d1f8e7-f978-4f19-bdfb-37c0d235b5bf",
      "metadata": {
        "id": "34d1f8e7-f978-4f19-bdfb-37c0d235b5bf"
      },
      "source": [
        "#### Notebook Setup"
      ]
    },
    {
      "cell_type": "code",
      "execution_count": null,
      "id": "gj2TZjihjDVt",
      "metadata": {
        "id": "gj2TZjihjDVt"
      },
      "outputs": [],
      "source": [
        "#This notebook teaches you a very basic RAG-based solution where you retrieve information from the digital piano manual pdf file, you break the text in\n",
        "#the digital piano pdf file into chunks and then embed those chunks into the model and then ask a question and get an answer based on what is the\n",
        "#most similar to the question that you asked"
      ]
    },
    {
      "cell_type": "code",
      "execution_count": null,
      "id": "f227a52a-a147-4e8f-b7d3-e03f983fd5f1",
      "metadata": {
        "id": "f227a52a-a147-4e8f-b7d3-e03f983fd5f1",
        "scrolled": true
      },
      "outputs": [],
      "source": [
        "#install the llama-index package\n",
        "#We use llama-index becuase its one of the frameworks that allows us to implement RAG(Retrieval Augmented Generation)\n",
        "%pip install llama-index llama-parse llama-index-vector-stores-qdrant -q\n",
        "!pip install openai"
      ]
    },
    {
      "cell_type": "code",
      "execution_count": null,
      "id": "7bc383fc-19b2-47b5-af61-e83210ea9c37",
      "metadata": {
        "id": "7bc383fc-19b2-47b5-af61-e83210ea9c37"
      },
      "outputs": [],
      "source": [
        "import nest_asyncio\n",
        "\n",
        "nest_asyncio.apply()"
      ]
    },
    {
      "cell_type": "code",
      "execution_count": null,
      "id": "6F42bkA3OXU7",
      "metadata": {
        "colab": {
          "base_uri": "https://localhost:8080/"
        },
        "id": "6F42bkA3OXU7",
        "outputId": "b5e750c1-0509-46e4-9243-dd02003eb5de"
      },
      "outputs": [
        {
          "name": "stdout",
          "output_type": "stream",
          "text": [
            "--2024-05-02 17:19:34--  https://jonfernandes.github.io/files/digital-piano.pdf\n",
            "Resolving jonfernandes.github.io (jonfernandes.github.io)... 185.199.108.153, 185.199.109.153, 185.199.110.153, ...\n",
            "Connecting to jonfernandes.github.io (jonfernandes.github.io)|185.199.108.153|:443... connected.\n",
            "HTTP request sent, awaiting response... 200 OK\n",
            "Length: 11002048 (10M) [application/pdf]\n",
            "Saving to: ‘./data/digital-piano.pdf’\n",
            "\n",
            "./data/digital-pian 100%[===================>]  10.49M  --.-KB/s    in 0.1s    \n",
            "\n",
            "2024-05-02 17:19:34 (105 MB/s) - ‘./data/digital-piano.pdf’ saved [11002048/11002048]\n",
            "\n"
          ]
        }
      ],
      "source": [
        "#Copy the digital piano manual across and storing it in the folder data\n",
        "!mkdir data\n",
        "!wget https://jonfernandes.github.io/files/digital-piano.pdf -O \"./data/digital-piano.pdf\""
      ]
    },
    {
      "cell_type": "code",
      "execution_count": null,
      "id": "e3c7ixD5Pofb",
      "metadata": {
        "colab": {
          "base_uri": "https://localhost:8080/"
        },
        "id": "e3c7ixD5Pofb",
        "outputId": "cf0d0bc7-7354-4cc5-cf1f-00d0898f96a6"
      },
      "outputs": [
        {
          "name": "stdout",
          "output_type": "stream",
          "text": [
            "total 10756\n",
            "drwxr-xr-x 2 root root     4096 May  2 17:19 .\n",
            "drwxr-xr-x 1 root root     4096 May  2 17:19 ..\n",
            "-rw-r--r-- 1 root root 11002048 Jan 12 12:09 digital-piano.pdf\n"
          ]
        }
      ],
      "source": [
        "#Check if the digital piano manual is inside the data folder\n",
        "!ls -la ./data"
      ]
    },
    {
      "cell_type": "code",
      "execution_count": null,
      "id": "-y-c0CCBJNfk",
      "metadata": {
        "id": "-y-c0CCBJNfk"
      },
      "outputs": [],
      "source": [
        "import openai\n",
        "\n",
        "openai.api_key=\"\""
      ]
    },
    {
      "cell_type": "code",
      "execution_count": null,
      "id": "25d4ce76-8eea-44cb-aa99-94844dfed9c7",
      "metadata": {
        "colab": {
          "base_uri": "https://localhost:8080/",
          "height": 492
        },
        "id": "25d4ce76-8eea-44cb-aa99-94844dfed9c7",
        "outputId": "b2322bc4-ecdf-4f94-e68c-7d254c590a3b"
      },
      "outputs": [
        {
          "name": "stderr",
          "output_type": "stream",
          "text": [
            "WARNING:llama_index.llms.openai.utils:Retrying llama_index.llms.openai.base.OpenAI._chat in 0.9428805373518743 seconds as it raised NotFoundError: Error code: 404 - {'error': {'message': 'The model `gpt-4-turbo-preview` does not exist or you do not have access to it.', 'type': 'invalid_request_error', 'param': None, 'code': 'model_not_found'}}.\n",
            "WARNING:llama_index.llms.openai.utils:Retrying llama_index.llms.openai.base.OpenAI._chat in 1.1133567715780663 seconds as it raised NotFoundError: Error code: 404 - {'error': {'message': 'The model `gpt-4-turbo-preview` does not exist or you do not have access to it.', 'type': 'invalid_request_error', 'param': None, 'code': 'model_not_found'}}.\n",
            "WARNING:llama_index.llms.openai.utils:Retrying llama_index.llms.openai.base.OpenAI._chat in 2.8222920667084788 seconds as it raised NotFoundError: Error code: 404 - {'error': {'message': 'The model `gpt-4-turbo-preview` does not exist or you do not have access to it.', 'type': 'invalid_request_error', 'param': None, 'code': 'model_not_found'}}.\n",
            "WARNING:llama_index.llms.openai.utils:Retrying llama_index.llms.openai.base.OpenAI._chat in 4.696315606855447 seconds as it raised NotFoundError: Error code: 404 - {'error': {'message': 'The model `gpt-4-turbo-preview` does not exist or you do not have access to it.', 'type': 'invalid_request_error', 'param': None, 'code': 'model_not_found'}}.\n",
            "WARNING:llama_index.llms.openai.utils:Retrying llama_index.llms.openai.base.OpenAI._chat in 10.404831687191628 seconds as it raised NotFoundError: Error code: 404 - {'error': {'message': 'The model `gpt-4-turbo-preview` does not exist or you do not have access to it.', 'type': 'invalid_request_error', 'param': None, 'code': 'model_not_found'}}.\n"
          ]
        },
        {
          "ename": "NotFoundError",
          "evalue": "Error code: 404 - {'error': {'message': 'The model `gpt-4-turbo-preview` does not exist or you do not have access to it.', 'type': 'invalid_request_error', 'param': None, 'code': 'model_not_found'}}",
          "output_type": "error",
          "traceback": [
            "\u001b[0;31m---------------------------------------------------------------------------\u001b[0m",
            "\u001b[0;31mNotFoundError\u001b[0m                             Traceback (most recent call last)",
            "\u001b[0;32m<ipython-input-8-7a7fd8aa1aa2>\u001b[0m in \u001b[0;36m<cell line: 7>\u001b[0;34m()\u001b[0m\n\u001b[1;32m      5\u001b[0m \u001b[0;34m\u001b[0m\u001b[0m\n\u001b[1;32m      6\u001b[0m \u001b[0;31m#Ask the gpt-4-turbo model the question how do you change the volume on a Roland F-120\u001b[0m\u001b[0;34m\u001b[0m\u001b[0;34m\u001b[0m\u001b[0m\n\u001b[0;32m----> 7\u001b[0;31m response = llm.complete(\n\u001b[0m\u001b[1;32m      8\u001b[0m     \u001b[0;34m\"How do you change the volume on a Roland F-120\"\u001b[0m\u001b[0;34m\u001b[0m\u001b[0;34m\u001b[0m\u001b[0m\n\u001b[1;32m      9\u001b[0m )\n",
            "\u001b[0;32m/usr/local/lib/python3.10/dist-packages/llama_index/core/llms/callbacks.py\u001b[0m in \u001b[0;36mwrapped_llm_predict\u001b[0;34m(_self, *args, **kwargs)\u001b[0m\n\u001b[1;32m    321\u001b[0m                 )\n\u001b[1;32m    322\u001b[0m \u001b[0;34m\u001b[0m\u001b[0m\n\u001b[0;32m--> 323\u001b[0;31m                 \u001b[0mf_return_val\u001b[0m \u001b[0;34m=\u001b[0m \u001b[0mf\u001b[0m\u001b[0;34m(\u001b[0m\u001b[0m_self\u001b[0m\u001b[0;34m,\u001b[0m \u001b[0;34m*\u001b[0m\u001b[0margs\u001b[0m\u001b[0;34m,\u001b[0m \u001b[0;34m**\u001b[0m\u001b[0mkwargs\u001b[0m\u001b[0;34m)\u001b[0m\u001b[0;34m\u001b[0m\u001b[0;34m\u001b[0m\u001b[0m\n\u001b[0m\u001b[1;32m    324\u001b[0m                 \u001b[0;32mif\u001b[0m \u001b[0misinstance\u001b[0m\u001b[0;34m(\u001b[0m\u001b[0mf_return_val\u001b[0m\u001b[0;34m,\u001b[0m \u001b[0mGenerator\u001b[0m\u001b[0;34m)\u001b[0m\u001b[0;34m:\u001b[0m\u001b[0;34m\u001b[0m\u001b[0;34m\u001b[0m\u001b[0m\n\u001b[1;32m    325\u001b[0m                     \u001b[0;31m# intercept the generator and add a callback to the end\u001b[0m\u001b[0;34m\u001b[0m\u001b[0;34m\u001b[0m\u001b[0m\n",
            "\u001b[0;32m/usr/local/lib/python3.10/dist-packages/llama_index/llms/openai/base.py\u001b[0m in \u001b[0;36mcomplete\u001b[0;34m(self, prompt, formatted, **kwargs)\u001b[0m\n\u001b[1;32m    314\u001b[0m         \u001b[0;32melse\u001b[0m\u001b[0;34m:\u001b[0m\u001b[0;34m\u001b[0m\u001b[0;34m\u001b[0m\u001b[0m\n\u001b[1;32m    315\u001b[0m             \u001b[0mcomplete_fn\u001b[0m \u001b[0;34m=\u001b[0m \u001b[0mself\u001b[0m\u001b[0;34m.\u001b[0m\u001b[0m_complete\u001b[0m\u001b[0;34m\u001b[0m\u001b[0;34m\u001b[0m\u001b[0m\n\u001b[0;32m--> 316\u001b[0;31m         \u001b[0;32mreturn\u001b[0m \u001b[0mcomplete_fn\u001b[0m\u001b[0;34m(\u001b[0m\u001b[0mprompt\u001b[0m\u001b[0;34m,\u001b[0m \u001b[0;34m**\u001b[0m\u001b[0mkwargs\u001b[0m\u001b[0;34m)\u001b[0m\u001b[0;34m\u001b[0m\u001b[0;34m\u001b[0m\u001b[0m\n\u001b[0m\u001b[1;32m    317\u001b[0m \u001b[0;34m\u001b[0m\u001b[0m\n\u001b[1;32m    318\u001b[0m     \u001b[0;34m@\u001b[0m\u001b[0mllm_completion_callback\u001b[0m\u001b[0;34m(\u001b[0m\u001b[0;34m)\u001b[0m\u001b[0;34m\u001b[0m\u001b[0;34m\u001b[0m\u001b[0m\n",
            "\u001b[0;32m/usr/local/lib/python3.10/dist-packages/llama_index/core/base/llms/generic_utils.py\u001b[0m in \u001b[0;36mwrapper\u001b[0;34m(prompt, **kwargs)\u001b[0m\n\u001b[1;32m    171\u001b[0m         \u001b[0;31m# normalize input\u001b[0m\u001b[0;34m\u001b[0m\u001b[0;34m\u001b[0m\u001b[0m\n\u001b[1;32m    172\u001b[0m         \u001b[0mmessages\u001b[0m \u001b[0;34m=\u001b[0m \u001b[0mprompt_to_messages\u001b[0m\u001b[0;34m(\u001b[0m\u001b[0mprompt\u001b[0m\u001b[0;34m)\u001b[0m\u001b[0;34m\u001b[0m\u001b[0;34m\u001b[0m\u001b[0m\n\u001b[0;32m--> 173\u001b[0;31m         \u001b[0mchat_response\u001b[0m \u001b[0;34m=\u001b[0m \u001b[0mfunc\u001b[0m\u001b[0;34m(\u001b[0m\u001b[0mmessages\u001b[0m\u001b[0;34m,\u001b[0m \u001b[0;34m**\u001b[0m\u001b[0mkwargs\u001b[0m\u001b[0;34m)\u001b[0m\u001b[0;34m\u001b[0m\u001b[0;34m\u001b[0m\u001b[0m\n\u001b[0m\u001b[1;32m    174\u001b[0m         \u001b[0;31m# normalize output\u001b[0m\u001b[0;34m\u001b[0m\u001b[0;34m\u001b[0m\u001b[0m\n\u001b[1;32m    175\u001b[0m         \u001b[0;32mreturn\u001b[0m \u001b[0mchat_response_to_completion_response\u001b[0m\u001b[0;34m(\u001b[0m\u001b[0mchat_response\u001b[0m\u001b[0;34m)\u001b[0m\u001b[0;34m\u001b[0m\u001b[0;34m\u001b[0m\u001b[0m\n",
            "\u001b[0;32m/usr/local/lib/python3.10/dist-packages/tenacity/__init__.py\u001b[0m in \u001b[0;36mwrapped_f\u001b[0;34m(*args, **kw)\u001b[0m\n\u001b[1;32m    287\u001b[0m         \u001b[0;34m@\u001b[0m\u001b[0mfunctools\u001b[0m\u001b[0;34m.\u001b[0m\u001b[0mwraps\u001b[0m\u001b[0;34m(\u001b[0m\u001b[0mf\u001b[0m\u001b[0;34m)\u001b[0m\u001b[0;34m\u001b[0m\u001b[0;34m\u001b[0m\u001b[0m\n\u001b[1;32m    288\u001b[0m         \u001b[0;32mdef\u001b[0m \u001b[0mwrapped_f\u001b[0m\u001b[0;34m(\u001b[0m\u001b[0;34m*\u001b[0m\u001b[0margs\u001b[0m\u001b[0;34m:\u001b[0m \u001b[0mt\u001b[0m\u001b[0;34m.\u001b[0m\u001b[0mAny\u001b[0m\u001b[0;34m,\u001b[0m \u001b[0;34m**\u001b[0m\u001b[0mkw\u001b[0m\u001b[0;34m:\u001b[0m \u001b[0mt\u001b[0m\u001b[0;34m.\u001b[0m\u001b[0mAny\u001b[0m\u001b[0;34m)\u001b[0m \u001b[0;34m->\u001b[0m \u001b[0mt\u001b[0m\u001b[0;34m.\u001b[0m\u001b[0mAny\u001b[0m\u001b[0;34m:\u001b[0m\u001b[0;34m\u001b[0m\u001b[0;34m\u001b[0m\u001b[0m\n\u001b[0;32m--> 289\u001b[0;31m             \u001b[0;32mreturn\u001b[0m \u001b[0mself\u001b[0m\u001b[0;34m(\u001b[0m\u001b[0mf\u001b[0m\u001b[0;34m,\u001b[0m \u001b[0;34m*\u001b[0m\u001b[0margs\u001b[0m\u001b[0;34m,\u001b[0m \u001b[0;34m**\u001b[0m\u001b[0mkw\u001b[0m\u001b[0;34m)\u001b[0m\u001b[0;34m\u001b[0m\u001b[0;34m\u001b[0m\u001b[0m\n\u001b[0m\u001b[1;32m    290\u001b[0m \u001b[0;34m\u001b[0m\u001b[0m\n\u001b[1;32m    291\u001b[0m         \u001b[0;32mdef\u001b[0m \u001b[0mretry_with\u001b[0m\u001b[0;34m(\u001b[0m\u001b[0;34m*\u001b[0m\u001b[0margs\u001b[0m\u001b[0;34m:\u001b[0m \u001b[0mt\u001b[0m\u001b[0;34m.\u001b[0m\u001b[0mAny\u001b[0m\u001b[0;34m,\u001b[0m \u001b[0;34m**\u001b[0m\u001b[0mkwargs\u001b[0m\u001b[0;34m:\u001b[0m \u001b[0mt\u001b[0m\u001b[0;34m.\u001b[0m\u001b[0mAny\u001b[0m\u001b[0;34m)\u001b[0m \u001b[0;34m->\u001b[0m \u001b[0mWrappedFn\u001b[0m\u001b[0;34m:\u001b[0m\u001b[0;34m\u001b[0m\u001b[0;34m\u001b[0m\u001b[0m\n",
            "\u001b[0;32m/usr/local/lib/python3.10/dist-packages/tenacity/__init__.py\u001b[0m in \u001b[0;36m__call__\u001b[0;34m(self, fn, *args, **kwargs)\u001b[0m\n\u001b[1;32m    377\u001b[0m         \u001b[0mretry_state\u001b[0m \u001b[0;34m=\u001b[0m \u001b[0mRetryCallState\u001b[0m\u001b[0;34m(\u001b[0m\u001b[0mretry_object\u001b[0m\u001b[0;34m=\u001b[0m\u001b[0mself\u001b[0m\u001b[0;34m,\u001b[0m \u001b[0mfn\u001b[0m\u001b[0;34m=\u001b[0m\u001b[0mfn\u001b[0m\u001b[0;34m,\u001b[0m \u001b[0margs\u001b[0m\u001b[0;34m=\u001b[0m\u001b[0margs\u001b[0m\u001b[0;34m,\u001b[0m \u001b[0mkwargs\u001b[0m\u001b[0;34m=\u001b[0m\u001b[0mkwargs\u001b[0m\u001b[0;34m)\u001b[0m\u001b[0;34m\u001b[0m\u001b[0;34m\u001b[0m\u001b[0m\n\u001b[1;32m    378\u001b[0m         \u001b[0;32mwhile\u001b[0m \u001b[0;32mTrue\u001b[0m\u001b[0;34m:\u001b[0m\u001b[0;34m\u001b[0m\u001b[0;34m\u001b[0m\u001b[0m\n\u001b[0;32m--> 379\u001b[0;31m             \u001b[0mdo\u001b[0m \u001b[0;34m=\u001b[0m \u001b[0mself\u001b[0m\u001b[0;34m.\u001b[0m\u001b[0miter\u001b[0m\u001b[0;34m(\u001b[0m\u001b[0mretry_state\u001b[0m\u001b[0;34m=\u001b[0m\u001b[0mretry_state\u001b[0m\u001b[0;34m)\u001b[0m\u001b[0;34m\u001b[0m\u001b[0;34m\u001b[0m\u001b[0m\n\u001b[0m\u001b[1;32m    380\u001b[0m             \u001b[0;32mif\u001b[0m \u001b[0misinstance\u001b[0m\u001b[0;34m(\u001b[0m\u001b[0mdo\u001b[0m\u001b[0;34m,\u001b[0m \u001b[0mDoAttempt\u001b[0m\u001b[0;34m)\u001b[0m\u001b[0;34m:\u001b[0m\u001b[0;34m\u001b[0m\u001b[0;34m\u001b[0m\u001b[0m\n\u001b[1;32m    381\u001b[0m                 \u001b[0;32mtry\u001b[0m\u001b[0;34m:\u001b[0m\u001b[0;34m\u001b[0m\u001b[0;34m\u001b[0m\u001b[0m\n",
            "\u001b[0;32m/usr/local/lib/python3.10/dist-packages/tenacity/__init__.py\u001b[0m in \u001b[0;36miter\u001b[0;34m(self, retry_state)\u001b[0m\n\u001b[1;32m    323\u001b[0m             \u001b[0mretry_exc\u001b[0m \u001b[0;34m=\u001b[0m \u001b[0mself\u001b[0m\u001b[0;34m.\u001b[0m\u001b[0mretry_error_cls\u001b[0m\u001b[0;34m(\u001b[0m\u001b[0mfut\u001b[0m\u001b[0;34m)\u001b[0m\u001b[0;34m\u001b[0m\u001b[0;34m\u001b[0m\u001b[0m\n\u001b[1;32m    324\u001b[0m             \u001b[0;32mif\u001b[0m \u001b[0mself\u001b[0m\u001b[0;34m.\u001b[0m\u001b[0mreraise\u001b[0m\u001b[0;34m:\u001b[0m\u001b[0;34m\u001b[0m\u001b[0;34m\u001b[0m\u001b[0m\n\u001b[0;32m--> 325\u001b[0;31m                 \u001b[0;32mraise\u001b[0m \u001b[0mretry_exc\u001b[0m\u001b[0;34m.\u001b[0m\u001b[0mreraise\u001b[0m\u001b[0;34m(\u001b[0m\u001b[0;34m)\u001b[0m\u001b[0;34m\u001b[0m\u001b[0;34m\u001b[0m\u001b[0m\n\u001b[0m\u001b[1;32m    326\u001b[0m             \u001b[0;32mraise\u001b[0m \u001b[0mretry_exc\u001b[0m \u001b[0;32mfrom\u001b[0m \u001b[0mfut\u001b[0m\u001b[0;34m.\u001b[0m\u001b[0mexception\u001b[0m\u001b[0;34m(\u001b[0m\u001b[0;34m)\u001b[0m\u001b[0;34m\u001b[0m\u001b[0;34m\u001b[0m\u001b[0m\n\u001b[1;32m    327\u001b[0m \u001b[0;34m\u001b[0m\u001b[0m\n",
            "\u001b[0;32m/usr/local/lib/python3.10/dist-packages/tenacity/__init__.py\u001b[0m in \u001b[0;36mreraise\u001b[0;34m(self)\u001b[0m\n\u001b[1;32m    156\u001b[0m     \u001b[0;32mdef\u001b[0m \u001b[0mreraise\u001b[0m\u001b[0;34m(\u001b[0m\u001b[0mself\u001b[0m\u001b[0;34m)\u001b[0m \u001b[0;34m->\u001b[0m \u001b[0mt\u001b[0m\u001b[0;34m.\u001b[0m\u001b[0mNoReturn\u001b[0m\u001b[0;34m:\u001b[0m\u001b[0;34m\u001b[0m\u001b[0;34m\u001b[0m\u001b[0m\n\u001b[1;32m    157\u001b[0m         \u001b[0;32mif\u001b[0m \u001b[0mself\u001b[0m\u001b[0;34m.\u001b[0m\u001b[0mlast_attempt\u001b[0m\u001b[0;34m.\u001b[0m\u001b[0mfailed\u001b[0m\u001b[0;34m:\u001b[0m\u001b[0;34m\u001b[0m\u001b[0;34m\u001b[0m\u001b[0m\n\u001b[0;32m--> 158\u001b[0;31m             \u001b[0;32mraise\u001b[0m \u001b[0mself\u001b[0m\u001b[0;34m.\u001b[0m\u001b[0mlast_attempt\u001b[0m\u001b[0;34m.\u001b[0m\u001b[0mresult\u001b[0m\u001b[0;34m(\u001b[0m\u001b[0;34m)\u001b[0m\u001b[0;34m\u001b[0m\u001b[0;34m\u001b[0m\u001b[0m\n\u001b[0m\u001b[1;32m    159\u001b[0m         \u001b[0;32mraise\u001b[0m \u001b[0mself\u001b[0m\u001b[0;34m\u001b[0m\u001b[0;34m\u001b[0m\u001b[0m\n\u001b[1;32m    160\u001b[0m \u001b[0;34m\u001b[0m\u001b[0m\n",
            "\u001b[0;32m/usr/lib/python3.10/concurrent/futures/_base.py\u001b[0m in \u001b[0;36mresult\u001b[0;34m(self, timeout)\u001b[0m\n\u001b[1;32m    449\u001b[0m                     \u001b[0;32mraise\u001b[0m \u001b[0mCancelledError\u001b[0m\u001b[0;34m(\u001b[0m\u001b[0;34m)\u001b[0m\u001b[0;34m\u001b[0m\u001b[0;34m\u001b[0m\u001b[0m\n\u001b[1;32m    450\u001b[0m                 \u001b[0;32melif\u001b[0m \u001b[0mself\u001b[0m\u001b[0;34m.\u001b[0m\u001b[0m_state\u001b[0m \u001b[0;34m==\u001b[0m \u001b[0mFINISHED\u001b[0m\u001b[0;34m:\u001b[0m\u001b[0;34m\u001b[0m\u001b[0;34m\u001b[0m\u001b[0m\n\u001b[0;32m--> 451\u001b[0;31m                     \u001b[0;32mreturn\u001b[0m \u001b[0mself\u001b[0m\u001b[0;34m.\u001b[0m\u001b[0m__get_result\u001b[0m\u001b[0;34m(\u001b[0m\u001b[0;34m)\u001b[0m\u001b[0;34m\u001b[0m\u001b[0;34m\u001b[0m\u001b[0m\n\u001b[0m\u001b[1;32m    452\u001b[0m \u001b[0;34m\u001b[0m\u001b[0m\n\u001b[1;32m    453\u001b[0m                 \u001b[0mself\u001b[0m\u001b[0;34m.\u001b[0m\u001b[0m_condition\u001b[0m\u001b[0;34m.\u001b[0m\u001b[0mwait\u001b[0m\u001b[0;34m(\u001b[0m\u001b[0mtimeout\u001b[0m\u001b[0;34m)\u001b[0m\u001b[0;34m\u001b[0m\u001b[0;34m\u001b[0m\u001b[0m\n",
            "\u001b[0;32m/usr/lib/python3.10/concurrent/futures/_base.py\u001b[0m in \u001b[0;36m__get_result\u001b[0;34m(self)\u001b[0m\n\u001b[1;32m    401\u001b[0m         \u001b[0;32mif\u001b[0m \u001b[0mself\u001b[0m\u001b[0;34m.\u001b[0m\u001b[0m_exception\u001b[0m\u001b[0;34m:\u001b[0m\u001b[0;34m\u001b[0m\u001b[0;34m\u001b[0m\u001b[0m\n\u001b[1;32m    402\u001b[0m             \u001b[0;32mtry\u001b[0m\u001b[0;34m:\u001b[0m\u001b[0;34m\u001b[0m\u001b[0;34m\u001b[0m\u001b[0m\n\u001b[0;32m--> 403\u001b[0;31m                 \u001b[0;32mraise\u001b[0m \u001b[0mself\u001b[0m\u001b[0;34m.\u001b[0m\u001b[0m_exception\u001b[0m\u001b[0;34m\u001b[0m\u001b[0;34m\u001b[0m\u001b[0m\n\u001b[0m\u001b[1;32m    404\u001b[0m             \u001b[0;32mfinally\u001b[0m\u001b[0;34m:\u001b[0m\u001b[0;34m\u001b[0m\u001b[0;34m\u001b[0m\u001b[0m\n\u001b[1;32m    405\u001b[0m                 \u001b[0;31m# Break a reference cycle with the exception in self._exception\u001b[0m\u001b[0;34m\u001b[0m\u001b[0;34m\u001b[0m\u001b[0m\n",
            "\u001b[0;32m/usr/local/lib/python3.10/dist-packages/tenacity/__init__.py\u001b[0m in \u001b[0;36m__call__\u001b[0;34m(self, fn, *args, **kwargs)\u001b[0m\n\u001b[1;32m    380\u001b[0m             \u001b[0;32mif\u001b[0m \u001b[0misinstance\u001b[0m\u001b[0;34m(\u001b[0m\u001b[0mdo\u001b[0m\u001b[0;34m,\u001b[0m \u001b[0mDoAttempt\u001b[0m\u001b[0;34m)\u001b[0m\u001b[0;34m:\u001b[0m\u001b[0;34m\u001b[0m\u001b[0;34m\u001b[0m\u001b[0m\n\u001b[1;32m    381\u001b[0m                 \u001b[0;32mtry\u001b[0m\u001b[0;34m:\u001b[0m\u001b[0;34m\u001b[0m\u001b[0;34m\u001b[0m\u001b[0m\n\u001b[0;32m--> 382\u001b[0;31m                     \u001b[0mresult\u001b[0m \u001b[0;34m=\u001b[0m \u001b[0mfn\u001b[0m\u001b[0;34m(\u001b[0m\u001b[0;34m*\u001b[0m\u001b[0margs\u001b[0m\u001b[0;34m,\u001b[0m \u001b[0;34m**\u001b[0m\u001b[0mkwargs\u001b[0m\u001b[0;34m)\u001b[0m\u001b[0;34m\u001b[0m\u001b[0;34m\u001b[0m\u001b[0m\n\u001b[0m\u001b[1;32m    383\u001b[0m                 \u001b[0;32mexcept\u001b[0m \u001b[0mBaseException\u001b[0m\u001b[0;34m:\u001b[0m  \u001b[0;31m# noqa: B902\u001b[0m\u001b[0;34m\u001b[0m\u001b[0;34m\u001b[0m\u001b[0m\n\u001b[1;32m    384\u001b[0m                     \u001b[0mretry_state\u001b[0m\u001b[0;34m.\u001b[0m\u001b[0mset_exception\u001b[0m\u001b[0;34m(\u001b[0m\u001b[0msys\u001b[0m\u001b[0;34m.\u001b[0m\u001b[0mexc_info\u001b[0m\u001b[0;34m(\u001b[0m\u001b[0;34m)\u001b[0m\u001b[0;34m)\u001b[0m  \u001b[0;31m# type: ignore[arg-type]\u001b[0m\u001b[0;34m\u001b[0m\u001b[0;34m\u001b[0m\u001b[0m\n",
            "\u001b[0;32m/usr/local/lib/python3.10/dist-packages/llama_index/llms/openai/base.py\u001b[0m in \u001b[0;36m_chat\u001b[0;34m(self, messages, **kwargs)\u001b[0m\n\u001b[1;32m    360\u001b[0m         \u001b[0mclient\u001b[0m \u001b[0;34m=\u001b[0m \u001b[0mself\u001b[0m\u001b[0;34m.\u001b[0m\u001b[0m_get_client\u001b[0m\u001b[0;34m(\u001b[0m\u001b[0;34m)\u001b[0m\u001b[0;34m\u001b[0m\u001b[0;34m\u001b[0m\u001b[0m\n\u001b[1;32m    361\u001b[0m         \u001b[0mmessage_dicts\u001b[0m \u001b[0;34m=\u001b[0m \u001b[0mto_openai_message_dicts\u001b[0m\u001b[0;34m(\u001b[0m\u001b[0mmessages\u001b[0m\u001b[0;34m)\u001b[0m\u001b[0;34m\u001b[0m\u001b[0;34m\u001b[0m\u001b[0m\n\u001b[0;32m--> 362\u001b[0;31m         response = client.chat.completions.create(\n\u001b[0m\u001b[1;32m    363\u001b[0m             \u001b[0mmessages\u001b[0m\u001b[0;34m=\u001b[0m\u001b[0mmessage_dicts\u001b[0m\u001b[0;34m,\u001b[0m\u001b[0;34m\u001b[0m\u001b[0;34m\u001b[0m\u001b[0m\n\u001b[1;32m    364\u001b[0m             \u001b[0mstream\u001b[0m\u001b[0;34m=\u001b[0m\u001b[0;32mFalse\u001b[0m\u001b[0;34m,\u001b[0m\u001b[0;34m\u001b[0m\u001b[0;34m\u001b[0m\u001b[0m\n",
            "\u001b[0;32m/usr/local/lib/python3.10/dist-packages/openai/_utils/_utils.py\u001b[0m in \u001b[0;36mwrapper\u001b[0;34m(*args, **kwargs)\u001b[0m\n\u001b[1;32m    275\u001b[0m                         \u001b[0mmsg\u001b[0m \u001b[0;34m=\u001b[0m \u001b[0;34mf\"Missing required argument: {quote(missing[0])}\"\u001b[0m\u001b[0;34m\u001b[0m\u001b[0;34m\u001b[0m\u001b[0m\n\u001b[1;32m    276\u001b[0m                 \u001b[0;32mraise\u001b[0m \u001b[0mTypeError\u001b[0m\u001b[0;34m(\u001b[0m\u001b[0mmsg\u001b[0m\u001b[0;34m)\u001b[0m\u001b[0;34m\u001b[0m\u001b[0;34m\u001b[0m\u001b[0m\n\u001b[0;32m--> 277\u001b[0;31m             \u001b[0;32mreturn\u001b[0m \u001b[0mfunc\u001b[0m\u001b[0;34m(\u001b[0m\u001b[0;34m*\u001b[0m\u001b[0margs\u001b[0m\u001b[0;34m,\u001b[0m \u001b[0;34m**\u001b[0m\u001b[0mkwargs\u001b[0m\u001b[0;34m)\u001b[0m\u001b[0;34m\u001b[0m\u001b[0;34m\u001b[0m\u001b[0m\n\u001b[0m\u001b[1;32m    278\u001b[0m \u001b[0;34m\u001b[0m\u001b[0m\n\u001b[1;32m    279\u001b[0m         \u001b[0;32mreturn\u001b[0m \u001b[0mwrapper\u001b[0m  \u001b[0;31m# type: ignore\u001b[0m\u001b[0;34m\u001b[0m\u001b[0;34m\u001b[0m\u001b[0m\n",
            "\u001b[0;32m/usr/local/lib/python3.10/dist-packages/openai/resources/chat/completions.py\u001b[0m in \u001b[0;36mcreate\u001b[0;34m(self, messages, model, frequency_penalty, function_call, functions, logit_bias, logprobs, max_tokens, n, presence_penalty, response_format, seed, stop, stream, temperature, tool_choice, tools, top_logprobs, top_p, user, extra_headers, extra_query, extra_body, timeout)\u001b[0m\n\u001b[1;32m    577\u001b[0m         \u001b[0mtimeout\u001b[0m\u001b[0;34m:\u001b[0m \u001b[0mfloat\u001b[0m \u001b[0;34m|\u001b[0m \u001b[0mhttpx\u001b[0m\u001b[0;34m.\u001b[0m\u001b[0mTimeout\u001b[0m \u001b[0;34m|\u001b[0m \u001b[0;32mNone\u001b[0m \u001b[0;34m|\u001b[0m \u001b[0mNotGiven\u001b[0m \u001b[0;34m=\u001b[0m \u001b[0mNOT_GIVEN\u001b[0m\u001b[0;34m,\u001b[0m\u001b[0;34m\u001b[0m\u001b[0;34m\u001b[0m\u001b[0m\n\u001b[1;32m    578\u001b[0m     ) -> ChatCompletion | Stream[ChatCompletionChunk]:\n\u001b[0;32m--> 579\u001b[0;31m         return self._post(\n\u001b[0m\u001b[1;32m    580\u001b[0m             \u001b[0;34m\"/chat/completions\"\u001b[0m\u001b[0;34m,\u001b[0m\u001b[0;34m\u001b[0m\u001b[0;34m\u001b[0m\u001b[0m\n\u001b[1;32m    581\u001b[0m             body=maybe_transform(\n",
            "\u001b[0;32m/usr/local/lib/python3.10/dist-packages/openai/_base_client.py\u001b[0m in \u001b[0;36mpost\u001b[0;34m(self, path, cast_to, body, options, files, stream, stream_cls)\u001b[0m\n\u001b[1;32m   1238\u001b[0m             \u001b[0mmethod\u001b[0m\u001b[0;34m=\u001b[0m\u001b[0;34m\"post\"\u001b[0m\u001b[0;34m,\u001b[0m \u001b[0murl\u001b[0m\u001b[0;34m=\u001b[0m\u001b[0mpath\u001b[0m\u001b[0;34m,\u001b[0m \u001b[0mjson_data\u001b[0m\u001b[0;34m=\u001b[0m\u001b[0mbody\u001b[0m\u001b[0;34m,\u001b[0m \u001b[0mfiles\u001b[0m\u001b[0;34m=\u001b[0m\u001b[0mto_httpx_files\u001b[0m\u001b[0;34m(\u001b[0m\u001b[0mfiles\u001b[0m\u001b[0;34m)\u001b[0m\u001b[0;34m,\u001b[0m \u001b[0;34m**\u001b[0m\u001b[0moptions\u001b[0m\u001b[0;34m\u001b[0m\u001b[0;34m\u001b[0m\u001b[0m\n\u001b[1;32m   1239\u001b[0m         )\n\u001b[0;32m-> 1240\u001b[0;31m         \u001b[0;32mreturn\u001b[0m \u001b[0mcast\u001b[0m\u001b[0;34m(\u001b[0m\u001b[0mResponseT\u001b[0m\u001b[0;34m,\u001b[0m \u001b[0mself\u001b[0m\u001b[0;34m.\u001b[0m\u001b[0mrequest\u001b[0m\u001b[0;34m(\u001b[0m\u001b[0mcast_to\u001b[0m\u001b[0;34m,\u001b[0m \u001b[0mopts\u001b[0m\u001b[0;34m,\u001b[0m \u001b[0mstream\u001b[0m\u001b[0;34m=\u001b[0m\u001b[0mstream\u001b[0m\u001b[0;34m,\u001b[0m \u001b[0mstream_cls\u001b[0m\u001b[0;34m=\u001b[0m\u001b[0mstream_cls\u001b[0m\u001b[0;34m)\u001b[0m\u001b[0;34m)\u001b[0m\u001b[0;34m\u001b[0m\u001b[0;34m\u001b[0m\u001b[0m\n\u001b[0m\u001b[1;32m   1241\u001b[0m \u001b[0;34m\u001b[0m\u001b[0m\n\u001b[1;32m   1242\u001b[0m     def patch(\n",
            "\u001b[0;32m/usr/local/lib/python3.10/dist-packages/openai/_base_client.py\u001b[0m in \u001b[0;36mrequest\u001b[0;34m(self, cast_to, options, remaining_retries, stream, stream_cls)\u001b[0m\n\u001b[1;32m    919\u001b[0m         \u001b[0mstream_cls\u001b[0m\u001b[0;34m:\u001b[0m \u001b[0mtype\u001b[0m\u001b[0;34m[\u001b[0m\u001b[0m_StreamT\u001b[0m\u001b[0;34m]\u001b[0m \u001b[0;34m|\u001b[0m \u001b[0;32mNone\u001b[0m \u001b[0;34m=\u001b[0m \u001b[0;32mNone\u001b[0m\u001b[0;34m,\u001b[0m\u001b[0;34m\u001b[0m\u001b[0;34m\u001b[0m\u001b[0m\n\u001b[1;32m    920\u001b[0m     ) -> ResponseT | _StreamT:\n\u001b[0;32m--> 921\u001b[0;31m         return self._request(\n\u001b[0m\u001b[1;32m    922\u001b[0m             \u001b[0mcast_to\u001b[0m\u001b[0;34m=\u001b[0m\u001b[0mcast_to\u001b[0m\u001b[0;34m,\u001b[0m\u001b[0;34m\u001b[0m\u001b[0;34m\u001b[0m\u001b[0m\n\u001b[1;32m    923\u001b[0m             \u001b[0moptions\u001b[0m\u001b[0;34m=\u001b[0m\u001b[0moptions\u001b[0m\u001b[0;34m,\u001b[0m\u001b[0;34m\u001b[0m\u001b[0;34m\u001b[0m\u001b[0m\n",
            "\u001b[0;32m/usr/local/lib/python3.10/dist-packages/openai/_base_client.py\u001b[0m in \u001b[0;36m_request\u001b[0;34m(self, cast_to, options, remaining_retries, stream, stream_cls)\u001b[0m\n\u001b[1;32m   1018\u001b[0m \u001b[0;34m\u001b[0m\u001b[0m\n\u001b[1;32m   1019\u001b[0m             \u001b[0mlog\u001b[0m\u001b[0;34m.\u001b[0m\u001b[0mdebug\u001b[0m\u001b[0;34m(\u001b[0m\u001b[0;34m\"Re-raising status error\"\u001b[0m\u001b[0;34m)\u001b[0m\u001b[0;34m\u001b[0m\u001b[0;34m\u001b[0m\u001b[0m\n\u001b[0;32m-> 1020\u001b[0;31m             \u001b[0;32mraise\u001b[0m \u001b[0mself\u001b[0m\u001b[0;34m.\u001b[0m\u001b[0m_make_status_error_from_response\u001b[0m\u001b[0;34m(\u001b[0m\u001b[0merr\u001b[0m\u001b[0;34m.\u001b[0m\u001b[0mresponse\u001b[0m\u001b[0;34m)\u001b[0m \u001b[0;32mfrom\u001b[0m \u001b[0;32mNone\u001b[0m\u001b[0;34m\u001b[0m\u001b[0;34m\u001b[0m\u001b[0m\n\u001b[0m\u001b[1;32m   1021\u001b[0m \u001b[0;34m\u001b[0m\u001b[0m\n\u001b[1;32m   1022\u001b[0m         return self._process_response(\n",
            "\u001b[0;31mNotFoundError\u001b[0m: Error code: 404 - {'error': {'message': 'The model `gpt-4-turbo-preview` does not exist or you do not have access to it.', 'type': 'invalid_request_error', 'param': None, 'code': 'model_not_found'}}"
          ]
        }
      ],
      "source": [
        "from llama_index.llms.openai import OpenAI\n",
        "\n",
        "\n",
        "llm = OpenAI(model=\"gpt-4-turbo-preview\")#Specify that we're going to be using the OpenAI gpt-4-turbo model for our project\n",
        "\n",
        "#Ask the gpt-4-turbo model the question how do you change the volume on a Roland F-120 and get response back from LLM and store answer in variable response\n",
        "response = llm.complete(\n",
        "    \"How do you change the volume on a Roland F-120\"\n",
        ")\n",
        "print(response)"
      ]
    },
    {
      "cell_type": "code",
      "execution_count": null,
      "id": "80b2f9c3-1e07-4178-9e7e-220355725955",
      "metadata": {
        "colab": {
          "base_uri": "https://localhost:8080/"
        },
        "id": "80b2f9c3-1e07-4178-9e7e-220355725955",
        "outputId": "a7287032-a5c7-4f6a-94ab-d8ecaf68e555"
      },
      "outputs": [
        {
          "name": "stdout",
          "output_type": "stream",
          "text": [
            "To provide you with accurate instructions on how to play a demo piece, I would need to know the specific device, instrument, or software you are referring to. The process can vary significantly depending on the context. For example, playing a demo piece on a digital piano involves different steps than playing a demo on music production software or a synthesizer.\n",
            "\n",
            "However, I can offer a general guide that applies to many electronic musical instruments, such as keyboards or digital pianos:\n",
            "\n",
            "1. **Turn on the Device**: Ensure the instrument or device is connected to power and turned on.\n",
            "\n",
            "2. **Select Demo Mode**: Look for a button or menu option labeled \"Demo,\" \"Song,\" or something similar. This might involve pressing a specific button directly or navigating through a menu using a screen and selector buttons.\n",
            "\n",
            "3. **Choose a Demo Piece**: Some devices will start playing a demo piece immediately upon entering demo mode. Others may require you to select a specific piece from a list. This could involve pressing additional buttons or keys, turning a dial, or selecting an option on a screen.\n",
            "\n",
            "4. **Play the Demo**: Once you've selected the demo piece, it may start automatically, or you might need to press a \"Play\" button. On some devices, starting a demo piece is as simple as pressing a specific key on the keyboard.\n",
            "\n",
            "5. **Adjust Volume**: Ensure the volume is at a comfortable listening level. There should be volume controls on your device.\n",
            "\n",
            "6. **Exit Demo Mode**: After the demo piece has finished playing, you can exit demo mode by pressing the \"Stop\" button, selecting another mode (like \"Voice\" or \"Style\" mode), or simply turning the device off and on again.\n",
            "\n",
            "If you're referring to software or a specific model of an instrument, the process could involve opening a demo project file from the software's menu or selecting a demo option from the instrument's interface.\n",
            "\n",
            "For the most accurate instructions, it's best to consult the manual specific to your device or software. If you can provide more details about what you're asking, I could give you a more tailored answer.\n"
          ]
        }
      ],
      "source": [
        "#Ask the model a question without access to the digital piano manual\n",
        "response = llm.complete(\n",
        "    \"According to the manual, how do you play a demo piece?\"\n",
        ")\n",
        "print(response)"
      ]
    },
    {
      "cell_type": "markdown",
      "id": "znBIfLbMLGvx",
      "metadata": {
        "id": "znBIfLbMLGvx"
      },
      "source": [
        "## 1. Build External Knowledge"
      ]
    },
    {
      "cell_type": "markdown",
      "id": "hQctNSzYUuw8",
      "metadata": {
        "id": "hQctNSzYUuw8"
      },
      "source": [
        "With llama-index, before any transformations are applied,\n",
        "data is loaded in the `Document` abstraction, which is\n",
        "a container that holds the text of the document."
      ]
    },
    {
      "cell_type": "code",
      "execution_count": null,
      "id": "a2963f90-9da5-4a0d-8dbe-f16fcb8627a3",
      "metadata": {
        "id": "a2963f90-9da5-4a0d-8dbe-f16fcb8627a3"
      },
      "outputs": [],
      "source": [
        "#We're going to use this document abstraction which allows us to store all of our text data in the digital piano manual within the data folder\n",
        "from llama_index.core import SimpleDirectoryReader\n",
        "\n",
        "loader = SimpleDirectoryReader(input_dir=\"./data\")\n",
        "documents = loader.load_data()#I use the variable loader and store the text from the manual in a variable documents"
      ]
    },
    {
      "cell_type": "code",
      "execution_count": null,
      "id": "da321e2c-8428-4c04-abf2-b204416e816f",
      "metadata": {
        "colab": {
          "base_uri": "https://localhost:8080/",
          "height": 142
        },
        "id": "da321e2c-8428-4c04-abf2-b204416e816f",
        "outputId": "2d825c76-d7e5-4e29-a034-c38a0664bcfe"
      },
      "outputs": [
        {
          "data": {
            "application/vnd.google.colaboratory.intrinsic+json": {
              "type": "string"
            },
            "text/plain": [
              "'2\\n&&Look What You Can Do!\\n&&Personalize  Your Piano\\n&eAdjust the keyboard touch\\nYou can adjust the touch sensitivity of the keyboard to match \\nyour own playing style.\\n&eAdd reverberation\\nYou can add reverberation (reverb) to create the sensation of performing in a concert hall.\\ng p. 9\\ng p. 9&&Play  the Piano\\n&ePlay using various sounds\\nThis unit contains a wide variety of tones (sounds). You can freely select and perform using these tones.\\n&eSound a metronome\\nYou can sound a metronome.\\n&ePlay duets\\nYou can divide the keyboard into left and right halves, playing it as though it were two pianos.\\ng p. 7\\ng p. 7\\ng p. 8&&Play and Record Songs\\n&ePlay the built-in songs\\nThis unit contains numerous built-in songs. For the song titles, refer to “Internal Song List” (p. 19).\\n&ePlay back individual parts\\nYou can practice along with a song while listening to only the right-hand or left-hand part play back.\\n&eRecord your performance\\nYou can record your own performances.\\ng p. 10\\ng p. 10\\ng p. 11\\n&eAdjust the brightness\\nYou can adjust the tone quality of the sound, ranging from a brilliant timbre to a mellow tone.\\n&eShift the keyboard pitch\\nYou can use the Transpose function to transpose the keyboard in semitone steps.\\ng p. 9\\ng p. 13'"
            ]
          },
          "execution_count": 12,
          "metadata": {},
          "output_type": "execute_result"
        }
      ],
      "source": [
        "#This is what the text we got from the manual looks like (All of it has been broken down into pieces from the digital piano manual)\n",
        "documents[1].text"
      ]
    },
    {
      "cell_type": "markdown",
      "id": "MaEOE4mIU3ia",
      "metadata": {
        "id": "MaEOE4mIU3ia"
      },
      "source": [
        "Chunk, Encode, and Store into a Vector Store.\n",
        "\n",
        "- To streamline the process, use the IngestionPipeline\n",
        "class that will apply your specified transformations to the\n",
        "Document's."
      ]
    },
    {
      "cell_type": "code",
      "execution_count": null,
      "id": "4801e74a-8c52-45c4-967d-7a1a94f54ad3",
      "metadata": {
        "colab": {
          "base_uri": "https://localhost:8080/",
          "height": 633
        },
        "id": "4801e74a-8c52-45c4-967d-7a1a94f54ad3",
        "outputId": "ce8f58ff-7947-4b99-8d89-ac5008bb98ec"
      },
      "outputs": [
        {
          "name": "stderr",
          "output_type": "stream",
          "text": [
            "Exception in thread Thread-12 (_handle_results):\n",
            "Traceback (most recent call last):\n",
            "  File \"/usr/lib/python3.10/threading.py\", line 1016, in _bootstrap_inner\n",
            "    self.run()\n",
            "  File \"/usr/lib/python3.10/threading.py\", line 953, in run\n",
            "    self._target(*self._args, **self._kwargs)\n",
            "  File \"/usr/lib/python3.10/multiprocessing/pool.py\", line 579, in _handle_results\n",
            "    task = get()\n",
            "  File \"/usr/lib/python3.10/multiprocessing/connection.py\", line 251, in recv\n",
            "    return _ForkingPickler.loads(buf.getbuffer())\n",
            "TypeError: APIStatusError.__init__() missing 2 required keyword-only arguments: 'response' and 'body'\n"
          ]
        },
        {
          "ename": "KeyboardInterrupt",
          "evalue": "",
          "output_type": "error",
          "traceback": [
            "\u001b[0;31m---------------------------------------------------------------------------\u001b[0m",
            "\u001b[0;31mKeyboardInterrupt\u001b[0m                         Traceback (most recent call last)",
            "\u001b[0;32m/usr/local/lib/python3.10/dist-packages/llama_index/core/ingestion/pipeline.py\u001b[0m in \u001b[0;36mrun\u001b[0;34m(self, show_progress, documents, nodes, cache_collection, in_place, store_doc_text, num_workers, **kwargs)\u001b[0m\n\u001b[1;32m    721\u001b[0m                 )\n\u001b[0;32m--> 722\u001b[0;31m                 nodes_parallel = p.starmap(\n\u001b[0m\u001b[1;32m    723\u001b[0m                     \u001b[0mrun_transformations\u001b[0m\u001b[0;34m,\u001b[0m\u001b[0;34m\u001b[0m\u001b[0;34m\u001b[0m\u001b[0m\n",
            "\u001b[0;32m/usr/lib/python3.10/multiprocessing/pool.py\u001b[0m in \u001b[0;36mstarmap\u001b[0;34m(self, func, iterable, chunksize)\u001b[0m\n\u001b[1;32m    374\u001b[0m         '''\n\u001b[0;32m--> 375\u001b[0;31m         \u001b[0;32mreturn\u001b[0m \u001b[0mself\u001b[0m\u001b[0;34m.\u001b[0m\u001b[0m_map_async\u001b[0m\u001b[0;34m(\u001b[0m\u001b[0mfunc\u001b[0m\u001b[0;34m,\u001b[0m \u001b[0miterable\u001b[0m\u001b[0;34m,\u001b[0m \u001b[0mstarmapstar\u001b[0m\u001b[0;34m,\u001b[0m \u001b[0mchunksize\u001b[0m\u001b[0;34m)\u001b[0m\u001b[0;34m.\u001b[0m\u001b[0mget\u001b[0m\u001b[0;34m(\u001b[0m\u001b[0;34m)\u001b[0m\u001b[0;34m\u001b[0m\u001b[0;34m\u001b[0m\u001b[0m\n\u001b[0m\u001b[1;32m    376\u001b[0m \u001b[0;34m\u001b[0m\u001b[0m\n",
            "\u001b[0;32m/usr/lib/python3.10/multiprocessing/pool.py\u001b[0m in \u001b[0;36mget\u001b[0;34m(self, timeout)\u001b[0m\n\u001b[1;32m    767\u001b[0m     \u001b[0;32mdef\u001b[0m \u001b[0mget\u001b[0m\u001b[0;34m(\u001b[0m\u001b[0mself\u001b[0m\u001b[0;34m,\u001b[0m \u001b[0mtimeout\u001b[0m\u001b[0;34m=\u001b[0m\u001b[0;32mNone\u001b[0m\u001b[0;34m)\u001b[0m\u001b[0;34m:\u001b[0m\u001b[0;34m\u001b[0m\u001b[0;34m\u001b[0m\u001b[0m\n\u001b[0;32m--> 768\u001b[0;31m         \u001b[0mself\u001b[0m\u001b[0;34m.\u001b[0m\u001b[0mwait\u001b[0m\u001b[0;34m(\u001b[0m\u001b[0mtimeout\u001b[0m\u001b[0;34m)\u001b[0m\u001b[0;34m\u001b[0m\u001b[0;34m\u001b[0m\u001b[0m\n\u001b[0m\u001b[1;32m    769\u001b[0m         \u001b[0;32mif\u001b[0m \u001b[0;32mnot\u001b[0m \u001b[0mself\u001b[0m\u001b[0;34m.\u001b[0m\u001b[0mready\u001b[0m\u001b[0;34m(\u001b[0m\u001b[0;34m)\u001b[0m\u001b[0;34m:\u001b[0m\u001b[0;34m\u001b[0m\u001b[0;34m\u001b[0m\u001b[0m\n",
            "\u001b[0;32m/usr/lib/python3.10/multiprocessing/pool.py\u001b[0m in \u001b[0;36mwait\u001b[0;34m(self, timeout)\u001b[0m\n\u001b[1;32m    764\u001b[0m     \u001b[0;32mdef\u001b[0m \u001b[0mwait\u001b[0m\u001b[0;34m(\u001b[0m\u001b[0mself\u001b[0m\u001b[0;34m,\u001b[0m \u001b[0mtimeout\u001b[0m\u001b[0;34m=\u001b[0m\u001b[0;32mNone\u001b[0m\u001b[0;34m)\u001b[0m\u001b[0;34m:\u001b[0m\u001b[0;34m\u001b[0m\u001b[0;34m\u001b[0m\u001b[0m\n\u001b[0;32m--> 765\u001b[0;31m         \u001b[0mself\u001b[0m\u001b[0;34m.\u001b[0m\u001b[0m_event\u001b[0m\u001b[0;34m.\u001b[0m\u001b[0mwait\u001b[0m\u001b[0;34m(\u001b[0m\u001b[0mtimeout\u001b[0m\u001b[0;34m)\u001b[0m\u001b[0;34m\u001b[0m\u001b[0;34m\u001b[0m\u001b[0m\n\u001b[0m\u001b[1;32m    766\u001b[0m \u001b[0;34m\u001b[0m\u001b[0m\n",
            "\u001b[0;32m/usr/lib/python3.10/threading.py\u001b[0m in \u001b[0;36mwait\u001b[0;34m(self, timeout)\u001b[0m\n\u001b[1;32m    606\u001b[0m             \u001b[0;32mif\u001b[0m \u001b[0;32mnot\u001b[0m \u001b[0msignaled\u001b[0m\u001b[0;34m:\u001b[0m\u001b[0;34m\u001b[0m\u001b[0;34m\u001b[0m\u001b[0m\n\u001b[0;32m--> 607\u001b[0;31m                 \u001b[0msignaled\u001b[0m \u001b[0;34m=\u001b[0m \u001b[0mself\u001b[0m\u001b[0;34m.\u001b[0m\u001b[0m_cond\u001b[0m\u001b[0;34m.\u001b[0m\u001b[0mwait\u001b[0m\u001b[0;34m(\u001b[0m\u001b[0mtimeout\u001b[0m\u001b[0;34m)\u001b[0m\u001b[0;34m\u001b[0m\u001b[0;34m\u001b[0m\u001b[0m\n\u001b[0m\u001b[1;32m    608\u001b[0m             \u001b[0;32mreturn\u001b[0m \u001b[0msignaled\u001b[0m\u001b[0;34m\u001b[0m\u001b[0;34m\u001b[0m\u001b[0m\n",
            "\u001b[0;32m/usr/lib/python3.10/threading.py\u001b[0m in \u001b[0;36mwait\u001b[0;34m(self, timeout)\u001b[0m\n\u001b[1;32m    319\u001b[0m             \u001b[0;32mif\u001b[0m \u001b[0mtimeout\u001b[0m \u001b[0;32mis\u001b[0m \u001b[0;32mNone\u001b[0m\u001b[0;34m:\u001b[0m\u001b[0;34m\u001b[0m\u001b[0;34m\u001b[0m\u001b[0m\n\u001b[0;32m--> 320\u001b[0;31m                 \u001b[0mwaiter\u001b[0m\u001b[0;34m.\u001b[0m\u001b[0macquire\u001b[0m\u001b[0;34m(\u001b[0m\u001b[0;34m)\u001b[0m\u001b[0;34m\u001b[0m\u001b[0;34m\u001b[0m\u001b[0m\n\u001b[0m\u001b[1;32m    321\u001b[0m                 \u001b[0mgotit\u001b[0m \u001b[0;34m=\u001b[0m \u001b[0;32mTrue\u001b[0m\u001b[0;34m\u001b[0m\u001b[0;34m\u001b[0m\u001b[0m\n",
            "\u001b[0;31mKeyboardInterrupt\u001b[0m: ",
            "\nDuring handling of the above exception, another exception occurred:\n",
            "\u001b[0;31mKeyboardInterrupt\u001b[0m                         Traceback (most recent call last)",
            "\u001b[0;32m<ipython-input-13-358408aa964e>\u001b[0m in \u001b[0;36m<cell line: 19>\u001b[0;34m()\u001b[0m\n\u001b[1;32m     17\u001b[0m     \u001b[0mvector_store\u001b[0m\u001b[0;34m=\u001b[0m\u001b[0mvector_store\u001b[0m\u001b[0;34m,\u001b[0m\u001b[0;34m\u001b[0m\u001b[0;34m\u001b[0m\u001b[0m\n\u001b[1;32m     18\u001b[0m )\n\u001b[0;32m---> 19\u001b[0;31m \u001b[0m_nodes\u001b[0m \u001b[0;34m=\u001b[0m \u001b[0mpipeline\u001b[0m\u001b[0;34m.\u001b[0m\u001b[0mrun\u001b[0m\u001b[0;34m(\u001b[0m\u001b[0mdocuments\u001b[0m\u001b[0;34m=\u001b[0m\u001b[0mdocuments\u001b[0m\u001b[0;34m,\u001b[0m \u001b[0mnum_workers\u001b[0m\u001b[0;34m=\u001b[0m\u001b[0;36m2\u001b[0m\u001b[0;34m)\u001b[0m\u001b[0;34m\u001b[0m\u001b[0;34m\u001b[0m\u001b[0m\n\u001b[0m",
            "\u001b[0;32m/usr/local/lib/python3.10/dist-packages/llama_index/core/ingestion/pipeline.py\u001b[0m in \u001b[0;36mrun\u001b[0;34m(self, show_progress, documents, nodes, cache_collection, in_place, store_doc_text, num_workers, **kwargs)\u001b[0m\n\u001b[1;32m    716\u001b[0m                 )\n\u001b[1;32m    717\u001b[0m \u001b[0;34m\u001b[0m\u001b[0m\n\u001b[0;32m--> 718\u001b[0;31m             \u001b[0;32mwith\u001b[0m \u001b[0mmultiprocessing\u001b[0m\u001b[0;34m.\u001b[0m\u001b[0mget_context\u001b[0m\u001b[0;34m(\u001b[0m\u001b[0;34m\"spawn\"\u001b[0m\u001b[0;34m)\u001b[0m\u001b[0;34m.\u001b[0m\u001b[0mPool\u001b[0m\u001b[0;34m(\u001b[0m\u001b[0mnum_workers\u001b[0m\u001b[0;34m)\u001b[0m \u001b[0;32mas\u001b[0m \u001b[0mp\u001b[0m\u001b[0;34m:\u001b[0m\u001b[0;34m\u001b[0m\u001b[0;34m\u001b[0m\u001b[0m\n\u001b[0m\u001b[1;32m    719\u001b[0m                 node_batches = self._node_batcher(\n\u001b[1;32m    720\u001b[0m                     \u001b[0mnum_batches\u001b[0m\u001b[0;34m=\u001b[0m\u001b[0mnum_workers\u001b[0m\u001b[0;34m,\u001b[0m \u001b[0mnodes\u001b[0m\u001b[0;34m=\u001b[0m\u001b[0mnodes_to_run\u001b[0m\u001b[0;34m\u001b[0m\u001b[0;34m\u001b[0m\u001b[0m\n",
            "\u001b[0;32m/usr/lib/python3.10/multiprocessing/pool.py\u001b[0m in \u001b[0;36m__exit__\u001b[0;34m(self, exc_type, exc_val, exc_tb)\u001b[0m\n\u001b[1;32m    737\u001b[0m \u001b[0;34m\u001b[0m\u001b[0m\n\u001b[1;32m    738\u001b[0m     \u001b[0;32mdef\u001b[0m \u001b[0m__exit__\u001b[0m\u001b[0;34m(\u001b[0m\u001b[0mself\u001b[0m\u001b[0;34m,\u001b[0m \u001b[0mexc_type\u001b[0m\u001b[0;34m,\u001b[0m \u001b[0mexc_val\u001b[0m\u001b[0;34m,\u001b[0m \u001b[0mexc_tb\u001b[0m\u001b[0;34m)\u001b[0m\u001b[0;34m:\u001b[0m\u001b[0;34m\u001b[0m\u001b[0;34m\u001b[0m\u001b[0m\n\u001b[0;32m--> 739\u001b[0;31m         \u001b[0mself\u001b[0m\u001b[0;34m.\u001b[0m\u001b[0mterminate\u001b[0m\u001b[0;34m(\u001b[0m\u001b[0;34m)\u001b[0m\u001b[0;34m\u001b[0m\u001b[0;34m\u001b[0m\u001b[0m\n\u001b[0m\u001b[1;32m    740\u001b[0m \u001b[0;34m\u001b[0m\u001b[0m\n\u001b[1;32m    741\u001b[0m \u001b[0;31m#\u001b[0m\u001b[0;34m\u001b[0m\u001b[0;34m\u001b[0m\u001b[0m\n",
            "\u001b[0;32m/usr/lib/python3.10/multiprocessing/pool.py\u001b[0m in \u001b[0;36mterminate\u001b[0;34m(self)\u001b[0m\n\u001b[1;32m    655\u001b[0m         \u001b[0mutil\u001b[0m\u001b[0;34m.\u001b[0m\u001b[0mdebug\u001b[0m\u001b[0;34m(\u001b[0m\u001b[0;34m'terminating pool'\u001b[0m\u001b[0;34m)\u001b[0m\u001b[0;34m\u001b[0m\u001b[0;34m\u001b[0m\u001b[0m\n\u001b[1;32m    656\u001b[0m         \u001b[0mself\u001b[0m\u001b[0;34m.\u001b[0m\u001b[0m_state\u001b[0m \u001b[0;34m=\u001b[0m \u001b[0mTERMINATE\u001b[0m\u001b[0;34m\u001b[0m\u001b[0;34m\u001b[0m\u001b[0m\n\u001b[0;32m--> 657\u001b[0;31m         \u001b[0mself\u001b[0m\u001b[0;34m.\u001b[0m\u001b[0m_terminate\u001b[0m\u001b[0;34m(\u001b[0m\u001b[0;34m)\u001b[0m\u001b[0;34m\u001b[0m\u001b[0;34m\u001b[0m\u001b[0m\n\u001b[0m\u001b[1;32m    658\u001b[0m \u001b[0;34m\u001b[0m\u001b[0m\n\u001b[1;32m    659\u001b[0m     \u001b[0;32mdef\u001b[0m \u001b[0mjoin\u001b[0m\u001b[0;34m(\u001b[0m\u001b[0mself\u001b[0m\u001b[0;34m)\u001b[0m\u001b[0;34m:\u001b[0m\u001b[0;34m\u001b[0m\u001b[0;34m\u001b[0m\u001b[0m\n",
            "\u001b[0;32m/usr/lib/python3.10/multiprocessing/util.py\u001b[0m in \u001b[0;36m__call__\u001b[0;34m(self, wr, _finalizer_registry, sub_debug, getpid)\u001b[0m\n\u001b[1;32m    222\u001b[0m                 sub_debug('finalizer calling %s with args %s and kwargs %s',\n\u001b[1;32m    223\u001b[0m                           self._callback, self._args, self._kwargs)\n\u001b[0;32m--> 224\u001b[0;31m                 \u001b[0mres\u001b[0m \u001b[0;34m=\u001b[0m \u001b[0mself\u001b[0m\u001b[0;34m.\u001b[0m\u001b[0m_callback\u001b[0m\u001b[0;34m(\u001b[0m\u001b[0;34m*\u001b[0m\u001b[0mself\u001b[0m\u001b[0;34m.\u001b[0m\u001b[0m_args\u001b[0m\u001b[0;34m,\u001b[0m \u001b[0;34m**\u001b[0m\u001b[0mself\u001b[0m\u001b[0;34m.\u001b[0m\u001b[0m_kwargs\u001b[0m\u001b[0;34m)\u001b[0m\u001b[0;34m\u001b[0m\u001b[0;34m\u001b[0m\u001b[0m\n\u001b[0m\u001b[1;32m    225\u001b[0m             \u001b[0mself\u001b[0m\u001b[0;34m.\u001b[0m\u001b[0m_weakref\u001b[0m \u001b[0;34m=\u001b[0m \u001b[0mself\u001b[0m\u001b[0;34m.\u001b[0m\u001b[0m_callback\u001b[0m \u001b[0;34m=\u001b[0m \u001b[0mself\u001b[0m\u001b[0;34m.\u001b[0m\u001b[0m_args\u001b[0m \u001b[0;34m=\u001b[0m\u001b[0;31m \u001b[0m\u001b[0;31m\\\u001b[0m\u001b[0;34m\u001b[0m\u001b[0;34m\u001b[0m\u001b[0m\n\u001b[1;32m    226\u001b[0m                             \u001b[0mself\u001b[0m\u001b[0;34m.\u001b[0m\u001b[0m_kwargs\u001b[0m \u001b[0;34m=\u001b[0m \u001b[0mself\u001b[0m\u001b[0;34m.\u001b[0m\u001b[0m_key\u001b[0m \u001b[0;34m=\u001b[0m \u001b[0;32mNone\u001b[0m\u001b[0;34m\u001b[0m\u001b[0;34m\u001b[0m\u001b[0m\n",
            "\u001b[0;32m/usr/lib/python3.10/multiprocessing/pool.py\u001b[0m in \u001b[0;36m_terminate_pool\u001b[0;34m(cls, taskqueue, inqueue, outqueue, pool, change_notifier, worker_handler, task_handler, result_handler, cache)\u001b[0m\n\u001b[1;32m    693\u001b[0m \u001b[0;34m\u001b[0m\u001b[0m\n\u001b[1;32m    694\u001b[0m         \u001b[0mutil\u001b[0m\u001b[0;34m.\u001b[0m\u001b[0mdebug\u001b[0m\u001b[0;34m(\u001b[0m\u001b[0;34m'helping task handler/workers to finish'\u001b[0m\u001b[0;34m)\u001b[0m\u001b[0;34m\u001b[0m\u001b[0;34m\u001b[0m\u001b[0m\n\u001b[0;32m--> 695\u001b[0;31m         \u001b[0mcls\u001b[0m\u001b[0;34m.\u001b[0m\u001b[0m_help_stuff_finish\u001b[0m\u001b[0;34m(\u001b[0m\u001b[0minqueue\u001b[0m\u001b[0;34m,\u001b[0m \u001b[0mtask_handler\u001b[0m\u001b[0;34m,\u001b[0m \u001b[0mlen\u001b[0m\u001b[0;34m(\u001b[0m\u001b[0mpool\u001b[0m\u001b[0;34m)\u001b[0m\u001b[0;34m)\u001b[0m\u001b[0;34m\u001b[0m\u001b[0;34m\u001b[0m\u001b[0m\n\u001b[0m\u001b[1;32m    696\u001b[0m \u001b[0;34m\u001b[0m\u001b[0m\n\u001b[1;32m    697\u001b[0m         \u001b[0;32mif\u001b[0m \u001b[0;34m(\u001b[0m\u001b[0;32mnot\u001b[0m \u001b[0mresult_handler\u001b[0m\u001b[0;34m.\u001b[0m\u001b[0mis_alive\u001b[0m\u001b[0;34m(\u001b[0m\u001b[0;34m)\u001b[0m\u001b[0;34m)\u001b[0m \u001b[0;32mand\u001b[0m \u001b[0;34m(\u001b[0m\u001b[0mlen\u001b[0m\u001b[0;34m(\u001b[0m\u001b[0mcache\u001b[0m\u001b[0;34m)\u001b[0m \u001b[0;34m!=\u001b[0m \u001b[0;36m0\u001b[0m\u001b[0;34m)\u001b[0m\u001b[0;34m:\u001b[0m\u001b[0;34m\u001b[0m\u001b[0;34m\u001b[0m\u001b[0m\n",
            "\u001b[0;32m/usr/lib/python3.10/multiprocessing/pool.py\u001b[0m in \u001b[0;36m_help_stuff_finish\u001b[0;34m(inqueue, task_handler, size)\u001b[0m\n\u001b[1;32m    673\u001b[0m         \u001b[0;31m# task_handler may be blocked trying to put items on inqueue\u001b[0m\u001b[0;34m\u001b[0m\u001b[0;34m\u001b[0m\u001b[0m\n\u001b[1;32m    674\u001b[0m         \u001b[0mutil\u001b[0m\u001b[0;34m.\u001b[0m\u001b[0mdebug\u001b[0m\u001b[0;34m(\u001b[0m\u001b[0;34m'removing tasks from inqueue until task handler finished'\u001b[0m\u001b[0;34m)\u001b[0m\u001b[0;34m\u001b[0m\u001b[0;34m\u001b[0m\u001b[0m\n\u001b[0;32m--> 675\u001b[0;31m         \u001b[0minqueue\u001b[0m\u001b[0;34m.\u001b[0m\u001b[0m_rlock\u001b[0m\u001b[0;34m.\u001b[0m\u001b[0macquire\u001b[0m\u001b[0;34m(\u001b[0m\u001b[0;34m)\u001b[0m\u001b[0;34m\u001b[0m\u001b[0;34m\u001b[0m\u001b[0m\n\u001b[0m\u001b[1;32m    676\u001b[0m         \u001b[0;32mwhile\u001b[0m \u001b[0mtask_handler\u001b[0m\u001b[0;34m.\u001b[0m\u001b[0mis_alive\u001b[0m\u001b[0;34m(\u001b[0m\u001b[0;34m)\u001b[0m \u001b[0;32mand\u001b[0m \u001b[0minqueue\u001b[0m\u001b[0;34m.\u001b[0m\u001b[0m_reader\u001b[0m\u001b[0;34m.\u001b[0m\u001b[0mpoll\u001b[0m\u001b[0;34m(\u001b[0m\u001b[0;34m)\u001b[0m\u001b[0;34m:\u001b[0m\u001b[0;34m\u001b[0m\u001b[0;34m\u001b[0m\u001b[0m\n\u001b[1;32m    677\u001b[0m             \u001b[0minqueue\u001b[0m\u001b[0;34m.\u001b[0m\u001b[0m_reader\u001b[0m\u001b[0;34m.\u001b[0m\u001b[0mrecv\u001b[0m\u001b[0;34m(\u001b[0m\u001b[0;34m)\u001b[0m\u001b[0;34m\u001b[0m\u001b[0;34m\u001b[0m\u001b[0m\n",
            "\u001b[0;31mKeyboardInterrupt\u001b[0m: "
          ]
        }
      ],
      "source": [
        "#We then want to chunk and encode it what we mean by chunk is break it up into smaller pieces and by encode we mean we want to embed it\n",
        "from llama_index.core.ingestion import IngestionPipeline\n",
        "from llama_index.core.node_parser import SentenceSplitter\n",
        "from llama_index.embeddings.openai import OpenAIEmbedding\n",
        "from llama_index.vector_stores.qdrant import QdrantVectorStore\n",
        "import qdrant_client\n",
        "\n",
        "#We use an in-memory vector database (like a quadrant) and it allows us to use a sentence splitter to split the sentences from the manual\n",
        "client = qdrant_client.QdrantClient(location=\":memory:\")\n",
        "vector_store = QdrantVectorStore(client=client, collection_name=\"test_store\")\n",
        "\n",
        "pipeline = IngestionPipeline(\n",
        "    transformations = [\n",
        "        SentenceSplitter(),#split the sentences from the manual using SentenceSplitter() function\n",
        "        OpenAIEmbedding(),#and then we embed it into OpenAI using OpenAIEmbedding() function\n",
        "    ],\n",
        "    vector_store=vector_store,\n",
        ")\n",
        "_nodes = pipeline.run(documents=documents, num_workers=2)"
      ]
    },
    {
      "cell_type": "code",
      "execution_count": null,
      "id": "iz8p6EVIVB4p",
      "metadata": {
        "colab": {
          "base_uri": "https://localhost:8080/"
        },
        "id": "iz8p6EVIVB4p",
        "outputId": "0a7fba37-422e-4dc5-ba3b-dfa446ed1c96"
      },
      "outputs": [
        {
          "data": {
            "text/plain": [
              "47"
            ]
          },
          "execution_count": 11,
          "metadata": {},
          "output_type": "execute_result"
        }
      ],
      "source": [
        "len(_nodes)#print out the number of nodes"
      ]
    },
    {
      "cell_type": "code",
      "execution_count": null,
      "id": "02afea25-098b-49c7-a965-21c7576757af",
      "metadata": {
        "colab": {
          "base_uri": "https://localhost:8080/",
          "height": 144
        },
        "id": "02afea25-098b-49c7-a965-21c7576757af",
        "outputId": "b8f91702-c48a-46aa-8882-d9287a271950"
      },
      "outputs": [
        {
          "ename": "NameError",
          "evalue": "name '_nodes' is not defined",
          "output_type": "error",
          "traceback": [
            "\u001b[0;31m---------------------------------------------------------------------------\u001b[0m",
            "\u001b[0;31mNameError\u001b[0m                                 Traceback (most recent call last)",
            "\u001b[0;32m<ipython-input-9-cf053a12e14e>\u001b[0m in \u001b[0;36m<cell line: 1>\u001b[0;34m()\u001b[0m\n\u001b[0;32m----> 1\u001b[0;31m \u001b[0m_nodes\u001b[0m\u001b[0;34m[\u001b[0m\u001b[0;36m2\u001b[0m\u001b[0;34m]\u001b[0m\u001b[0;34m.\u001b[0m\u001b[0mtext\u001b[0m\u001b[0;34m\u001b[0m\u001b[0;34m\u001b[0m\u001b[0m\n\u001b[0m",
            "\u001b[0;31mNameError\u001b[0m: name '_nodes' is not defined"
          ]
        }
      ],
      "source": [
        "_nodes[1].text"
      ]
    },
    {
      "cell_type": "markdown",
      "id": "XC5vT0p2RvED",
      "metadata": {
        "id": "XC5vT0p2RvED"
      },
      "source": [
        "Create a Index.\n",
        "\n",
        "- Upload encoded documents into vector store\n",
        "- Connect to it with a VectorStoreIndex\n"
      ]
    },
    {
      "cell_type": "code",
      "execution_count": null,
      "id": "44cd8a86-089d-4329-9484-35b98b3a26f9",
      "metadata": {
        "id": "44cd8a86-089d-4329-9484-35b98b3a26f9"
      },
      "outputs": [],
      "source": [
        "#I have chunks of the text from the digital piano manual that have been embedded\n",
        "#and we want to upload those embedded documents into some sort of vector store and we do that using VectorStoreIndex.from_vector_store() function and\n",
        "#store the vector store into a variable index because it allows us to access the text that we embedded and then we can ask any question I want off that index\n",
        "#NOTE: Vector store index might be the vector space\n",
        "from llama_index.core import VectorStoreIndex\n",
        "\n",
        "index = VectorStoreIndex.from_vector_store(vector_store=vector_store)#upload the embedded documents into a vector store using VectorStoreIndex.from_vector_store() function and store vector space into variable index"
      ]
    },
    {
      "cell_type": "markdown",
      "id": "286b1827-7547-49c6-aba3-82f08d6d86b8",
      "metadata": {
        "id": "286b1827-7547-49c6-aba3-82f08d6d86b8"
      },
      "source": [
        "## 2. Retrieve Against A Query\n"
      ]
    },
    {
      "cell_type": "code",
      "execution_count": null,
      "id": "49f86af1-db08-4641-89ad-d60abd04e6b3",
      "metadata": {
        "id": "49f86af1-db08-4641-89ad-d60abd04e6b3"
      },
      "outputs": [],
      "source": [
        "#Ask a question that we want off that index\n",
        "retriever = index.as_retriever(similarity_top_k=2)#retrieve the top 2 chunks that are the most similar to the question because we specify similarity_top_k = 2 thus getting 2 chunks that will help us answer the question\n",
        "retrieved_nodes = retriever.retrieve(#ask question how can you play a demo piece? when you ask that question the question/query is also embedded\n",
        "    \"How can you play a demo piece?\"\n",
        ")\n",
        "#and then what happens is its performing a comparison operation much like the cosine similarity to compare how far the question/query is VS all\n",
        "#of the chunks stored in the vector store index and then the way the model will know that you have a potential answer is it will retrieve 2 chunks that\n",
        "#are close to the question in the vector space and will respond with that"
      ]
    },
    {
      "cell_type": "code",
      "execution_count": null,
      "id": "06b04a79-2a28-4a21-b15b-4bb6c7b1a227",
      "metadata": {
        "colab": {
          "base_uri": "https://localhost:8080/"
        },
        "id": "06b04a79-2a28-4a21-b15b-4bb6c7b1a227",
        "outputId": "f7449e8e-50cd-41d1-cfbd-1654c467773c"
      },
      "outputs": [
        {
          "data": {
            "text/plain": [
              "[NodeWithScore(node=TextNode(id_='bac74254-f207-412a-adc8-a3acb0a43dd7', embedding=None, metadata={'page_label': '10', 'file_name': 'digital-piano.pdf', 'file_path': '/content/data/digital-piano.pdf', 'file_type': 'application/pdf', 'file_size': 11002048, 'creation_date': '2024-04-29', 'last_modified_date': '2024-01-12'}, excluded_embed_metadata_keys=['file_name', 'file_type', 'file_size', 'creation_date', 'last_modified_date', 'last_accessed_date'], excluded_llm_metadata_keys=['file_name', 'file_type', 'file_size', 'creation_date', 'last_modified_date', 'last_accessed_date'], relationships={<NodeRelationship.SOURCE: '1'>: RelatedNodeInfo(node_id='f97f5e2a-308b-4d1b-afc5-f7fc2436ea7c', node_type=<ObjectType.DOCUMENT: '4'>, metadata={'page_label': '10', 'file_name': 'digital-piano.pdf', 'file_path': '/content/data/digital-piano.pdf', 'file_type': 'application/pdf', 'file_size': 11002048, 'creation_date': '2024-04-29', 'last_modified_date': '2024-01-12'}, hash='bad22a58ae7dca249aa4ba90d3b365890160413dfba71ba75d18677f9228dcb4'), <NodeRelationship.PREVIOUS: '2'>: RelatedNodeInfo(node_id='51fa76b9-0d5d-4d20-87f3-e01ecea5b75a', node_type=<ObjectType.TEXT: '1'>, metadata={'page_label': '9', 'file_name': 'digital-piano.pdf', 'file_path': '/content/data/digital-piano.pdf', 'file_type': 'application/pdf', 'file_size': 11002048, 'creation_date': '2024-04-29', 'last_modified_date': '2024-01-12'}, hash='94866ad2b08c974c0a37279b417b68347e0320c4fb3dd171502dbb7c3962aafa'), <NodeRelationship.NEXT: '3'>: RelatedNodeInfo(node_id='a2ea2632-86da-4496-850c-8060ce7e6f0a', node_type=<ObjectType.TEXT: '1'>, metadata={}, hash='2bc3cb72b9e829aa5c008a13ed2d31a49a0e0103e8d809e94714debfdbab8661')}, text='10&&Playing Back Songs\\nLet’s try listening to the internal songs and the songs recorded \\nin internal memory. For the titles of the internal songs, refer to “Internal Song List” (p. 19).\\nPlay back a song\\n1. Press the [Song] button so it’s lit  .\\nThe song will begin playing. When the song has finished playing to the end, it will stop.\\nDuring playback, the display will indicate the currently playing \\nmeasure of the song.\\n    2.     1.\\nMeasure number and dot shown\\nFast-forward or fast-reverse the song\\n1. While the song is playing, press the [–] [+] buttons  .\\nThis allows you to fast-forward or fast-reverse the song.  The measure indication in the display will increase or decrease each time you press the button.  By holding down a button, you can rapidly increase or decrease the measure number.\\nStop the song\\n1. Press the [Song] button so its light goes out  .\\nThe song will stop.\\nSelect a song\\nWhile the song is stopped, the display will indicate the song number.\\na.01\\n• Song numbers beginning with “ a, b, c” are internal \\nsongs.\\n• Song numbers beginning with “ U” are songs you’ve \\nrecorded in internal memory.\\n1. When the song number is displayed, press the [–] [+] buttons  .\\nThis allows you to select a song. If you’ve stopped in the middle of a song, you can press the [–] button to return to the beginning of the song.\\na.01 c.20 U.10 U.01Recorded songs Internal songs\\n* The songs in internal memory ( U.01  – U.10 ) will not be shown if \\nthey have not been recorded.\\n* For the titles of the internal songs, refer to “Internal Song List” (p. 19).Play songs consecutively\\n1. Hold down the Piano [Ensemble] button and press the \\n[Song] button .\\nThe songs will be played back successively.  \\nWhen the currently playing song ends, the next song will play.\\nPlaying Parts (Left/Right Hand) \\nSeparately\\nYou can select and play back the parts (left-hand or right-hand) \\nseparately. This is a convenient way to practice by playing along with a song one hand at a time.\\n1. Hold down the [Song] button and press the [–] [+] buttons to select the part that you want to play back  .\\nButton Lit/Unlit Explanation\\n[–] button \\n(left-hand part)Lit Left-hand part will sound\\nUnlitLeft-hand part is muted  \\n(or contains no performance data)\\n[+] button (right-hand part)Lit Right-hand part will sound\\nUnlitRight-hand part is muted  (or contains no performance data)\\n* This setting will be cancelled if you select another song.\\nMEMO\\nThe parts (left-hand / right-hand) are indicated as follows for the internal songs (a, b, c) and the songs you’ve recorded (U).\\nSongs Left-Hand Part Right-Hand Part\\nInternal Songs (a, b, c) Left-hand part Right-hand part\\nRecorded Songs (U)Twin Piano (p. 8) Left-hand piano Right-hand piano\\nSplit Tones (p. 18) Left-hand tone Right-hand tone\\nOthersNo performance dataAll parts (both hands)\\nSounding a Count Before Playback\\nIf you’re playing along with a song, it will be easier to synchronize your playing with the song if a count is sounded before playback begins.\\n1. Press the [Metronome] button to turn on the metronome (p . 7) .\\n2. Press the [Song] button to play back the song  .\\nA two-measure count will sound before the song plays.\\nDuring the count, measure numbers “ -2” and then “ -1” will appear \\nin the display.', start_char_idx=0, end_char_idx=3246, text_template='{metadata_str}\\n\\n{content}', metadata_template='{key}: {value}', metadata_seperator='\\n'), score=0.8099888293057356),\n",
              " NodeWithScore(node=TextNode(id_='a2ea2632-86da-4496-850c-8060ce7e6f0a', embedding=None, metadata={'page_label': '11', 'file_name': 'digital-piano.pdf', 'file_path': '/content/data/digital-piano.pdf', 'file_type': 'application/pdf', 'file_size': 11002048, 'creation_date': '2024-04-29', 'last_modified_date': '2024-01-12'}, excluded_embed_metadata_keys=['file_name', 'file_type', 'file_size', 'creation_date', 'last_modified_date', 'last_accessed_date'], excluded_llm_metadata_keys=['file_name', 'file_type', 'file_size', 'creation_date', 'last_modified_date', 'last_accessed_date'], relationships={<NodeRelationship.SOURCE: '1'>: RelatedNodeInfo(node_id='d0251d54-a630-4e0f-9248-d1d337869fff', node_type=<ObjectType.DOCUMENT: '4'>, metadata={'page_label': '11', 'file_name': 'digital-piano.pdf', 'file_path': '/content/data/digital-piano.pdf', 'file_type': 'application/pdf', 'file_size': 11002048, 'creation_date': '2024-04-29', 'last_modified_date': '2024-01-12'}, hash='e5a926aa109a5b2a6323b23ac82e2ac07cae49643f45d6f2c0e536fddb4917a0'), <NodeRelationship.PREVIOUS: '2'>: RelatedNodeInfo(node_id='bac74254-f207-412a-adc8-a3acb0a43dd7', node_type=<ObjectType.TEXT: '1'>, metadata={'page_label': '10', 'file_name': 'digital-piano.pdf', 'file_path': '/content/data/digital-piano.pdf', 'file_type': 'application/pdf', 'file_size': 11002048, 'creation_date': '2024-04-29', 'last_modified_date': '2024-01-12'}, hash='bad22a58ae7dca249aa4ba90d3b365890160413dfba71ba75d18677f9228dcb4'), <NodeRelationship.NEXT: '3'>: RelatedNodeInfo(node_id='74384d1f-ad88-4a92-a020-221efac0e747', node_type=<ObjectType.TEXT: '1'>, metadata={}, hash='24f8282dc74a86bdccef63e5755376fd02586fbd196edd920e5b7f5dc6086aa1')}, text='11\\nDeutsc h English Françai s Italiano Español Português Nederlands&&Recording\\nYou can record your performances.\\nYou can play back a performance you have recorded to check what \\nand how you played, and play melodies on the keyboard along with prerecorded accompaniment.\\nGetting ready to record\\n1. Select the tone that you want to play (p  . 7) .\\n2. Sound the metronome if desired  .\\nPress the [Metronome] button.\\nWhile the metronome is sounding, specify the tempo and time \\nsignature of the song (p. 7).\\nEntering recording-standby mode\\n3. Hold down the [Metronome] button and press the [Song] button .\\nThe [Song] button will blink; the unit will enter recording-standby mode.\\nMEMO\\nIf you decide not to record (i.e., if you want to exit recording-standby mode), hold down the [Metronome] button once again and press the [Song] button.\\nSelecting the song number to record\\n4. Press the [–] [+] buttons to select the song number (u01 –\\nu10) that you want to record  .\\nu01\\nA song with no recorded data (empty song)\\n• Song number shown with lowercase “ u”\\n• No dot shown\\nU.01\\nA song with recorded data• Song number shown with uppercase “\\nU”\\n• Dot shown\\nNOTE!\\nIf you select a song that already contains data (song number \\nwith an uppercase “U”) and record, the previously recorded \\ndata will be lost.\\nStarting recording\\n5. Press the [Song] button .\\nA two-measure count will sound, and then recording will start.\\nDuring the count, measure numbers “ -2” and then “ -1” will appear \\nin the display.\\nIf you don’t want a count to sound before recording\\nRecording will start automatically if you play the keyboard \\nwhile in recording-standby mode.\\nStopping recording\\n6. Press the [Song] button .\\nRecording will stop.\\nThe song will automatically be saved when you stop recording.\\n* While the song is being saved, an animation of a rotating “ o” \\nsymbol will appear in the display for several seconds. Do not \\nturn off the power during this time. Doing so might cause the saved song to be lost.\\nWhen saving has been completed, the [Song] button will go out.\\nListening to the recorded song\\nAfter recording, you can press the [Song] button to immediately play back the recorded song. For details on song playback methods, refer to “Playing Back Songs” (p. 10).\\nIf you want to re-do the recording\\nYou can repeat the procedure from step 1 on this page to re-record at the same song number.\\nIf you want to erase the recorded song\\nYou can erase a song by recording an empty song as follows.\\n• Repeat the procedure from step 3 on this page.\\n• In step 4 of the procedure, select the song number that you want to erase.\\n• In step 5, press the [Song] button to hear the two-\\nmeasure count, and then press the [Song] button \\nwithout playing the keyboard.\\nA song containing no notes will be recorded; the song has \\nbeen erased.', start_char_idx=0, end_char_idx=2800, text_template='{metadata_str}\\n\\n{content}', metadata_template='{key}: {value}', metadata_seperator='\\n'), score=0.803089602553669)]"
            ]
          },
          "execution_count": 15,
          "metadata": {},
          "output_type": "execute_result"
        }
      ],
      "source": [
        "#View the retrieved nodes that we get from the LlaMa index which are the 2 chunks of info that our model thinks are the most appropriate to the question we asked\n",
        "retrieved_nodes"
      ]
    },
    {
      "cell_type": "markdown",
      "id": "978ae2c5-8c2a-41c7-a2eb-85a5562f2db5",
      "metadata": {
        "id": "978ae2c5-8c2a-41c7-a2eb-85a5562f2db5"
      },
      "source": [
        "## 3. Generate Final Response\n"
      ]
    },
    {
      "cell_type": "code",
      "execution_count": null,
      "id": "ef33c349-eed4-4e35-9b5d-9473adf2ce01",
      "metadata": {
        "id": "ef33c349-eed4-4e35-9b5d-9473adf2ce01"
      },
      "outputs": [],
      "source": [
        "#It then goes ahead and sends those 2 chunks to the LLM because that's the relevant documents that are then being sent to the LLM\n",
        "#The LLM that we're using the GPT-4 model and that's why we need the OpenAI API KEYS because we've specified that we're using OpenAI as our LLM\n",
        "query_engine = index.as_query_engine()"
      ]
    },
    {
      "cell_type": "code",
      "execution_count": null,
      "id": "4139c48a-ece8-4244-b4eb-7cff74cb1325",
      "metadata": {
        "colab": {
          "base_uri": "https://localhost:8080/"
        },
        "id": "4139c48a-ece8-4244-b4eb-7cff74cb1325",
        "outputId": "d4544ce0-43ea-48dc-9245-b5a3020770fd"
      },
      "outputs": [
        {
          "name": "stdout",
          "output_type": "stream",
          "text": [
            "Context information is below.\n",
            "---------------------\n",
            "{context_str}\n",
            "---------------------\n",
            "Given the context information and not prior knowledge, answer the query.\n",
            "Query: {query_str}\n",
            "Answer: \n"
          ]
        }
      ],
      "source": [
        "# to inspect the default prompt being used\n",
        "#the prompt being used for the LLM is the query_engine and we're providing the 2 context strings to the question/query\n",
        "#so given context info and no prior knowledge it answers the question/query\n",
        "print(query_engine.\n",
        "      get_prompts()[\"response_synthesizer:text_qa_template\"]\n",
        "      .default_template.template\n",
        ")\n",
        "#The question/query is the query_str which has value How can you play a demo piece?"
      ]
    },
    {
      "cell_type": "code",
      "execution_count": null,
      "id": "6179639d-af96-4a09-b440-b47ad599a26f",
      "metadata": {
        "colab": {
          "base_uri": "https://localhost:8080/"
        },
        "id": "6179639d-af96-4a09-b440-b47ad599a26f",
        "outputId": "abcb0fb3-6cab-491a-94ee-b4760b3cf050"
      },
      "outputs": [
        {
          "name": "stdout",
          "output_type": "stream",
          "text": [
            "To play a demo piece, you can press the [Song] button so it's lit. The song will begin playing, and the display will indicate the currently playing measure of the song. You can fast-forward or fast-reverse the song by pressing the [–] [+] buttons while the song is playing. To stop the song, press the [Song] button so its light goes out. If you want to play songs consecutively, you can hold down the Piano [Ensemble] button and press the [Song] button.\n"
          ]
        }
      ],
      "source": [
        "#This is where the LLM responds to the question and it gives us a spot on answer and its only using the data that we've sent to the it to answer the question\n",
        "response = query_engine.query(\n",
        "              \"How can you play a demo piece?\"\n",
        ")\n",
        "print(response)\n",
        "#If we had a keyword database we would be stuck (for example if we searched for the word demo in the digital piano manual pdf file we would get nothing\n",
        "#back) and that's why having an embedding based solution is really helpful because the word demo and the sentence built in song is actually more closely\n",
        "#related to each other so it doesn't need that exact string"
      ]
    },
    {
      "cell_type": "markdown",
      "id": "a050bb7f-266c-46c7-8773-eccb909e5fd6",
      "metadata": {
        "id": "a050bb7f-266c-46c7-8773-eccb909e5fd6"
      },
      "source": [
        "## More Queries"
      ]
    },
    {
      "cell_type": "markdown",
      "id": "20be9033-f240-4505-9761-29e9455c8974",
      "metadata": {
        "id": "20be9033-f240-4505-9761-29e9455c8974"
      },
      "source": [
        "### Comparisons"
      ]
    },
    {
      "cell_type": "code",
      "execution_count": null,
      "id": "c86e99c2-601e-443e-aed2-ebe25106a966",
      "metadata": {
        "colab": {
          "base_uri": "https://localhost:8080/"
        },
        "id": "c86e99c2-601e-443e-aed2-ebe25106a966",
        "outputId": "44486470-d5cb-4029-d284-de42b7239133"
      },
      "outputs": [
        {
          "name": "stdout",
          "output_type": "stream",
          "text": [
            "To select a grand piano, you can press the [Grand] button on the digital piano.\n"
          ]
        }
      ],
      "source": [
        "query = (\n",
        "    \"How can I select a grand piano?\"\n",
        ")\n",
        "\n",
        "response = query_engine.query(query)\n",
        "print(response)"
      ]
    },
    {
      "cell_type": "code",
      "execution_count": null,
      "id": "b02d9ae9-42ed-4f6e-8c2f-709d7e97dd22",
      "metadata": {
        "colab": {
          "base_uri": "https://localhost:8080/"
        },
        "id": "b02d9ae9-42ed-4f6e-8c2f-709d7e97dd22",
        "outputId": "87cdbb35-11f4-4978-862b-58d5f462736f"
      },
      "outputs": [
        {
          "name": "stdout",
          "output_type": "stream",
          "text": [
            "To turn the power off, you should first turn the [Volume] knob all the way toward the left to minimize the volume. Then, you need to turn the [Power] switch OFF. If you do not want the power to turn off automatically, you can turn off the \"Auto Off\" setting.\n"
          ]
        }
      ],
      "source": [
        "query = (\n",
        "    \"How can I turn the power off?\"\n",
        ")\n",
        "\n",
        "response = query_engine.query(query)\n",
        "print(response)"
      ]
    }
  ],
  "metadata": {
    "colab": {
      "provenance": []
    },
    "kernelspec": {
      "display_name": "mlops",
      "language": "python",
      "name": "mlops"
    },
    "language_info": {
      "codemirror_mode": {
        "name": "ipython",
        "version": 3
      },
      "file_extension": ".py",
      "mimetype": "text/x-python",
      "name": "python",
      "nbconvert_exporter": "python",
      "pygments_lexer": "ipython3",
      "version": "3.11.3"
    }
  },
  "nbformat": 4,
  "nbformat_minor": 5
}
