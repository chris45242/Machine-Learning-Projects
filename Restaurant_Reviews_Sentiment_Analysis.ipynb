{
 "cells": [
  {
   "cell_type": "code",
   "execution_count": 2,
   "id": "d1f18d7b-3255-429d-8294-7d734622aa6f",
   "metadata": {},
   "outputs": [
    {
     "name": "stdout",
     "output_type": "stream",
     "text": [
      "Python 3.12.7\n"
     ]
    }
   ],
   "source": [
    "!python --version"
   ]
  },
  {
   "cell_type": "code",
   "execution_count": 12,
   "id": "fe4120d5-6eb9-4399-b5b6-887cc276bd37",
   "metadata": {},
   "outputs": [],
   "source": [
    "from transformers import BertTokenizer, TFBertForSequenceClassification\n",
    "import pandas as pd\n",
    "import numpy as np\n",
    "import torch\n",
    "import os\n",
    "import re\n",
    "from nltk.stem import SnowballStemmer #used for stemming\n",
    "from sklearn.model_selection import train_test_split\n",
    "from sklearn.linear_model import LogisticRegression\n",
    "from sklearn.metrics import accuracy_score, f1_score, log_loss\n",
    "import tensorflow as tf\n",
    "from tensorflow import keras\n",
    "from keras.preprocessing.sequence import pad_sequences\n",
    "import matplotlib.pyplot as plt \n",
    "import spacy #used to identify aspects in the text "
   ]
  },
  {
   "cell_type": "code",
   "execution_count": 4,
   "id": "b9a59517-c23b-411a-b22e-4f338c066f17",
   "metadata": {},
   "outputs": [
    {
     "data": {
      "text/plain": [
       "'C:\\\\Users\\\\Chris\\\\Documents\\\\Old_Laptop_Data\\\\Desktop\\\\College Work\\\\Intro to Machine Learning\\\\Final Project'"
      ]
     },
     "execution_count": 4,
     "metadata": {},
     "output_type": "execute_result"
    }
   ],
   "source": [
    "os.getcwd()"
   ]
  },
  {
   "cell_type": "code",
   "execution_count": 5,
   "id": "02d98190-105f-4805-9653-bb327c924b0f",
   "metadata": {},
   "outputs": [
    {
     "data": {
      "text/html": [
       "<div>\n",
       "<style scoped>\n",
       "    .dataframe tbody tr th:only-of-type {\n",
       "        vertical-align: middle;\n",
       "    }\n",
       "\n",
       "    .dataframe tbody tr th {\n",
       "        vertical-align: top;\n",
       "    }\n",
       "\n",
       "    .dataframe thead th {\n",
       "        text-align: right;\n",
       "    }\n",
       "</style>\n",
       "<table border=\"1\" class=\"dataframe\">\n",
       "  <thead>\n",
       "    <tr style=\"text-align: right;\">\n",
       "      <th></th>\n",
       "      <th>Review</th>\n",
       "      <th>Liked</th>\n",
       "    </tr>\n",
       "  </thead>\n",
       "  <tbody>\n",
       "    <tr>\n",
       "      <th>0</th>\n",
       "      <td>Wow... Loved this place.</td>\n",
       "      <td>1</td>\n",
       "    </tr>\n",
       "    <tr>\n",
       "      <th>1</th>\n",
       "      <td>Crust is not good.</td>\n",
       "      <td>0</td>\n",
       "    </tr>\n",
       "    <tr>\n",
       "      <th>2</th>\n",
       "      <td>Not tasty and the texture was just nasty.</td>\n",
       "      <td>0</td>\n",
       "    </tr>\n",
       "    <tr>\n",
       "      <th>3</th>\n",
       "      <td>Stopped by during the late May bank holiday of...</td>\n",
       "      <td>1</td>\n",
       "    </tr>\n",
       "    <tr>\n",
       "      <th>4</th>\n",
       "      <td>The selection on the menu was great and so wer...</td>\n",
       "      <td>1</td>\n",
       "    </tr>\n",
       "  </tbody>\n",
       "</table>\n",
       "</div>"
      ],
      "text/plain": [
       "                                              Review  Liked\n",
       "0                           Wow... Loved this place.      1\n",
       "1                                 Crust is not good.      0\n",
       "2          Not tasty and the texture was just nasty.      0\n",
       "3  Stopped by during the late May bank holiday of...      1\n",
       "4  The selection on the menu was great and so wer...      1"
      ]
     },
     "execution_count": 5,
     "metadata": {},
     "output_type": "execute_result"
    }
   ],
   "source": [
    "data = pd.read_csv(\"C:\\\\Users\\\\Chris\\\\Documents\\\\Old_Laptop_Data\\\\Desktop\\\\College Work\\\\Intro to Machine Learning\\\\Final Project\\\\Restaurant_Customer_Reviews\\\\Restaurant_Reviews.csv\", encoding='iso-8859-1')\n",
    "data.head()\n",
    "#If review is positive Liked = 1 and if review is negative Liked = 0"
   ]
  },
  {
   "cell_type": "code",
   "execution_count": 6,
   "id": "0536b475-d6dd-49df-baac-cb8993493e37",
   "metadata": {},
   "outputs": [
    {
     "data": {
      "text/html": [
       "<div>\n",
       "<style scoped>\n",
       "    .dataframe tbody tr th:only-of-type {\n",
       "        vertical-align: middle;\n",
       "    }\n",
       "\n",
       "    .dataframe tbody tr th {\n",
       "        vertical-align: top;\n",
       "    }\n",
       "\n",
       "    .dataframe thead th {\n",
       "        text-align: right;\n",
       "    }\n",
       "</style>\n",
       "<table border=\"1\" class=\"dataframe\">\n",
       "  <thead>\n",
       "    <tr style=\"text-align: right;\">\n",
       "      <th></th>\n",
       "      <th>Liked</th>\n",
       "    </tr>\n",
       "  </thead>\n",
       "  <tbody>\n",
       "    <tr>\n",
       "      <th>count</th>\n",
       "      <td>1000.00000</td>\n",
       "    </tr>\n",
       "    <tr>\n",
       "      <th>mean</th>\n",
       "      <td>0.50000</td>\n",
       "    </tr>\n",
       "    <tr>\n",
       "      <th>std</th>\n",
       "      <td>0.50025</td>\n",
       "    </tr>\n",
       "    <tr>\n",
       "      <th>min</th>\n",
       "      <td>0.00000</td>\n",
       "    </tr>\n",
       "    <tr>\n",
       "      <th>25%</th>\n",
       "      <td>0.00000</td>\n",
       "    </tr>\n",
       "    <tr>\n",
       "      <th>50%</th>\n",
       "      <td>0.50000</td>\n",
       "    </tr>\n",
       "    <tr>\n",
       "      <th>75%</th>\n",
       "      <td>1.00000</td>\n",
       "    </tr>\n",
       "    <tr>\n",
       "      <th>max</th>\n",
       "      <td>1.00000</td>\n",
       "    </tr>\n",
       "  </tbody>\n",
       "</table>\n",
       "</div>"
      ],
      "text/plain": [
       "            Liked\n",
       "count  1000.00000\n",
       "mean      0.50000\n",
       "std       0.50025\n",
       "min       0.00000\n",
       "25%       0.00000\n",
       "50%       0.50000\n",
       "75%       1.00000\n",
       "max       1.00000"
      ]
     },
     "execution_count": 6,
     "metadata": {},
     "output_type": "execute_result"
    }
   ],
   "source": [
    "data.describe()"
   ]
  },
  {
   "cell_type": "code",
   "execution_count": 23,
   "id": "94f54b1c-ed23-4457-a4fb-14738a3d9dd4",
   "metadata": {},
   "outputs": [
    {
     "data": {
      "text/plain": [
       "<BarContainer object of 2 artists>"
      ]
     },
     "execution_count": 23,
     "metadata": {},
     "output_type": "execute_result"
    },
    {
     "data": {
      "image/png": "[encoded data removed]",
      "text/plain": [
       "<Figure size 640x480 with 1 Axes>"
      ]
     },
     "metadata": {},
     "output_type": "display_data"
    }
   ],
   "source": [
    "num_zeros = len(data) - data['Liked'].sum()\n",
    "Liked = [0, 1]\n",
    "plt.bar(Liked, (num_zeros, data['Liked'].sum()), color='maroon')"
   ]
  },
  {
   "cell_type": "code",
   "execution_count": 29,
   "id": "29581cbb-606f-4feb-b7d4-329783e083d5",
   "metadata": {},
   "outputs": [
    {
     "name": "stderr",
     "output_type": "stream",
     "text": [
      "All PyTorch model weights were used when initializing TFBertForSequenceClassification.\n",
      "\n",
      "Some weights or buffers of the TF 2.0 model TFBertForSequenceClassification were not initialized from the PyTorch model and are newly initialized: ['classifier.weight', 'classifier.bias']\n",
      "You should probably TRAIN this model on a down-stream task to be able to use it for predictions and inference.\n"
     ]
    },
    {
     "data": {
      "text/plain": [
       "<transformers.models.bert.modeling_tf_bert.TFBertForSequenceClassification at 0x21e36fa3290>"
      ]
     },
     "execution_count": 29,
     "metadata": {},
     "output_type": "execute_result"
    }
   ],
   "source": [
    "model_name = 'bert-large-uncased'#I chose bert-large-uncased because its more accurate than bert-base-uncased but more computationally expensive because it has more parameters to tune while bert-base-uncased is less accurate but less computationally expensive\n",
    "epochs = 5\n",
    "alpha = 0.01\n",
    "batch_size = 32\n",
    "tokenizer = BertTokenizer.from_pretrained(model_name)\n",
    "model = TFBertForSequenceClassification.from_pretrained(model_name, num_labels=2)\n",
    "model"
   ]
  },
  {
   "cell_type": "code",
   "execution_count": 7,
   "id": "8a211da4-f16b-49cb-8317-c074f6e18ce9",
   "metadata": {},
   "outputs": [
    {
     "name": "stdout",
     "output_type": "stream",
     "text": [
      "Value of token_data_decode is:  wow loved this place\n",
      "Value of token_data_decode is now:  crust is not good\n",
      "Value of token_data_decode now is:  not tasty and the texture was just nasty\n",
      "Now the value of token_data_decode is:  stopped by during the late may bank holiday off rick steve recommendation and loved it\n",
      "And now the value of token_data_decode is:  the selection on the menu was great and so were the prices\n"
     ]
    },
    {
     "data": {
      "text/html": [
       "<div>\n",
       "<style scoped>\n",
       "    .dataframe tbody tr th:only-of-type {\n",
       "        vertical-align: middle;\n",
       "    }\n",
       "\n",
       "    .dataframe tbody tr th {\n",
       "        vertical-align: top;\n",
       "    }\n",
       "\n",
       "    .dataframe thead th {\n",
       "        text-align: right;\n",
       "    }\n",
       "</style>\n",
       "<table border=\"1\" class=\"dataframe\">\n",
       "  <thead>\n",
       "    <tr style=\"text-align: right;\">\n",
       "      <th></th>\n",
       "      <th>input_ids</th>\n",
       "    </tr>\n",
       "  </thead>\n",
       "  <tbody>\n",
       "    <tr>\n",
       "      <th>0</th>\n",
       "      <td>[101, 10166, 3866, 2023, 2173, 102]</td>\n",
       "    </tr>\n",
       "    <tr>\n",
       "      <th>1</th>\n",
       "      <td>[101, 19116, 2003, 2025, 2204, 102]</td>\n",
       "    </tr>\n",
       "    <tr>\n",
       "      <th>2</th>\n",
       "      <td>[101, 2025, 11937, 21756, 1998, 1996, 14902, 2...</td>\n",
       "    </tr>\n",
       "    <tr>\n",
       "      <th>3</th>\n",
       "      <td>[101, 3030, 2011, 2076, 1996, 2397, 2089, 2924...</td>\n",
       "    </tr>\n",
       "    <tr>\n",
       "      <th>4</th>\n",
       "      <td>[101, 1996, 4989, 2006, 1996, 12183, 2001, 230...</td>\n",
       "    </tr>\n",
       "    <tr>\n",
       "      <th>...</th>\n",
       "      <td>...</td>\n",
       "    </tr>\n",
       "    <tr>\n",
       "      <th>995</th>\n",
       "      <td>[101, 1045, 2228, 2833, 2323, 2031, 14894, 199...</td>\n",
       "    </tr>\n",
       "    <tr>\n",
       "      <th>996</th>\n",
       "      <td>[101, 18923, 6880, 2908, 102]</td>\n",
       "    </tr>\n",
       "    <tr>\n",
       "      <th>997</th>\n",
       "      <td>[101, 3452, 1045, 2001, 2025, 7622, 1998, 2052...</td>\n",
       "    </tr>\n",
       "    <tr>\n",
       "      <th>998</th>\n",
       "      <td>[101, 1996, 2878, 3325, 2001, 2104, 2860, 2454...</td>\n",
       "    </tr>\n",
       "    <tr>\n",
       "      <th>999</th>\n",
       "      <td>[101, 2059, 2004, 2065, 1045, 2910, 2102, 1384...</td>\n",
       "    </tr>\n",
       "  </tbody>\n",
       "</table>\n",
       "<p>1000 rows × 1 columns</p>\n",
       "</div>"
      ],
      "text/plain": [
       "                                             input_ids\n",
       "0                  [101, 10166, 3866, 2023, 2173, 102]\n",
       "1                  [101, 19116, 2003, 2025, 2204, 102]\n",
       "2    [101, 2025, 11937, 21756, 1998, 1996, 14902, 2...\n",
       "3    [101, 3030, 2011, 2076, 1996, 2397, 2089, 2924...\n",
       "4    [101, 1996, 4989, 2006, 1996, 12183, 2001, 230...\n",
       "..                                                 ...\n",
       "995  [101, 1045, 2228, 2833, 2323, 2031, 14894, 199...\n",
       "996                      [101, 18923, 6880, 2908, 102]\n",
       "997  [101, 3452, 1045, 2001, 2025, 7622, 1998, 2052...\n",
       "998  [101, 1996, 2878, 3325, 2001, 2104, 2860, 2454...\n",
       "999  [101, 2059, 2004, 2065, 1045, 2910, 2102, 1384...\n",
       "\n",
       "[1000 rows x 1 columns]"
      ]
     },
     "execution_count": 7,
     "metadata": {},
     "output_type": "execute_result"
    }
   ],
   "source": [
    "highest_len = 149\n",
    "token_arr = np.empty([5])\n",
    "column_name = ['input_ids']\n",
    "token_data = pd.DataFrame(columns=column_name)\n",
    "\n",
    "#Remove all punctuation and extra spaces from each restaurant review then tokenize each review and add it to dataset\n",
    "for i in range(len(data['Review'])):\n",
    "    cleaned_text = re.sub(r'[^a-zA-Z0-9\\s]', '', data.loc[i, 'Review'])\n",
    "    clean_text = \" \".join(cleaned_text.split())\n",
    "    data.loc[i, 'Review'] = clean_text\n",
    "    token_text = tokenizer(data.loc[i, \"Review\"])\n",
    "    token_data.loc[i, 'input_ids'] = token_text['input_ids']\n",
    "\n",
    "    \n",
    "token_data_decode = tokenizer.decode(token_data.loc[0, 'input_ids'], skip_special_tokens=True)\n",
    "print(\"Value of token_data_decode is: \", token_data_decode)\n",
    "token_data_decode = tokenizer.decode(token_data.loc[1, 'input_ids'], skip_special_tokens=True)\n",
    "print(\"Value of token_data_decode is now: \", token_data_decode)\n",
    "token_data_decode = tokenizer.decode(token_data.loc[2, 'input_ids'], skip_special_tokens=True)\n",
    "print(\"Value of token_data_decode now is: \", token_data_decode)\n",
    "token_data_decode = tokenizer.decode(token_data.loc[3, 'input_ids'], skip_special_tokens=True)\n",
    "print(\"Now the value of token_data_decode is: \", token_data_decode)\n",
    "token_data_decode = tokenizer.decode(token_data.loc[4, 'input_ids'], skip_special_tokens=True)\n",
    "print(\"And now the value of token_data_decode is: \", token_data_decode)\n",
    "token_data\n",
    "#input_ids show the token_id #'s of each word, the token_type_ids show\n",
    "#token_type_ids are used to differentiate between different segments of text in a sentence\n",
    "#attention_masks show which words the tokenizer will pay attention to if it = 1 then it will pay attention to it if it = 0 then it won't pay attention to it\n",
    "#I train the model with attention masks because then it'll know which tokens to pay attention to and which ones to ignore"
   ]
  },
  {
   "cell_type": "code",
   "execution_count": 8,
   "id": "d57a3010-91dd-436a-a51e-34d2e84b808a",
   "metadata": {},
   "outputs": [
    {
     "data": {
      "text/html": [
       "<div>\n",
       "<style scoped>\n",
       "    .dataframe tbody tr th:only-of-type {\n",
       "        vertical-align: middle;\n",
       "    }\n",
       "\n",
       "    .dataframe tbody tr th {\n",
       "        vertical-align: top;\n",
       "    }\n",
       "\n",
       "    .dataframe thead th {\n",
       "        text-align: right;\n",
       "    }\n",
       "</style>\n",
       "<table border=\"1\" class=\"dataframe\">\n",
       "  <thead>\n",
       "    <tr style=\"text-align: right;\">\n",
       "      <th></th>\n",
       "      <th>tokens</th>\n",
       "      <th>Liked</th>\n",
       "    </tr>\n",
       "  </thead>\n",
       "  <tbody>\n",
       "    <tr>\n",
       "      <th>0</th>\n",
       "      <td>[101, 10166, 3866, 2023, 2173, 102]</td>\n",
       "      <td>1</td>\n",
       "    </tr>\n",
       "    <tr>\n",
       "      <th>1</th>\n",
       "      <td>[101, 19116, 2003, 2025, 2204, 102]</td>\n",
       "      <td>0</td>\n",
       "    </tr>\n",
       "    <tr>\n",
       "      <th>2</th>\n",
       "      <td>[101, 2025, 11937, 21756, 1998, 1996, 14902, 2...</td>\n",
       "      <td>0</td>\n",
       "    </tr>\n",
       "    <tr>\n",
       "      <th>3</th>\n",
       "      <td>[101, 3030, 2011, 2076, 1996, 2397, 2089, 2924...</td>\n",
       "      <td>1</td>\n",
       "    </tr>\n",
       "    <tr>\n",
       "      <th>4</th>\n",
       "      <td>[101, 1996, 4989, 2006, 1996, 12183, 2001, 230...</td>\n",
       "      <td>1</td>\n",
       "    </tr>\n",
       "    <tr>\n",
       "      <th>...</th>\n",
       "      <td>...</td>\n",
       "      <td>...</td>\n",
       "    </tr>\n",
       "    <tr>\n",
       "      <th>995</th>\n",
       "      <td>[101, 1045, 2228, 2833, 2323, 2031, 14894, 199...</td>\n",
       "      <td>0</td>\n",
       "    </tr>\n",
       "    <tr>\n",
       "      <th>996</th>\n",
       "      <td>[101, 18923, 6880, 2908, 102]</td>\n",
       "      <td>0</td>\n",
       "    </tr>\n",
       "    <tr>\n",
       "      <th>997</th>\n",
       "      <td>[101, 3452, 1045, 2001, 2025, 7622, 1998, 2052...</td>\n",
       "      <td>0</td>\n",
       "    </tr>\n",
       "    <tr>\n",
       "      <th>998</th>\n",
       "      <td>[101, 1996, 2878, 3325, 2001, 2104, 2860, 2454...</td>\n",
       "      <td>0</td>\n",
       "    </tr>\n",
       "    <tr>\n",
       "      <th>999</th>\n",
       "      <td>[101, 2059, 2004, 2065, 1045, 2910, 2102, 1384...</td>\n",
       "      <td>0</td>\n",
       "    </tr>\n",
       "  </tbody>\n",
       "</table>\n",
       "<p>1000 rows × 2 columns</p>\n",
       "</div>"
      ],
      "text/plain": [
       "                                                tokens  Liked\n",
       "0                  [101, 10166, 3866, 2023, 2173, 102]      1\n",
       "1                  [101, 19116, 2003, 2025, 2204, 102]      0\n",
       "2    [101, 2025, 11937, 21756, 1998, 1996, 14902, 2...      0\n",
       "3    [101, 3030, 2011, 2076, 1996, 2397, 2089, 2924...      1\n",
       "4    [101, 1996, 4989, 2006, 1996, 12183, 2001, 230...      1\n",
       "..                                                 ...    ...\n",
       "995  [101, 1045, 2228, 2833, 2323, 2031, 14894, 199...      0\n",
       "996                      [101, 18923, 6880, 2908, 102]      0\n",
       "997  [101, 3452, 1045, 2001, 2025, 7622, 1998, 2052...      0\n",
       "998  [101, 1996, 2878, 3325, 2001, 2104, 2860, 2454...      0\n",
       "999  [101, 2059, 2004, 2065, 1045, 2910, 2102, 1384...      0\n",
       "\n",
       "[1000 rows x 2 columns]"
      ]
     },
     "execution_count": 8,
     "metadata": {},
     "output_type": "execute_result"
    }
   ],
   "source": [
    "data.insert(1, 'tokens', token_data)\n",
    "data.drop('Review', axis=1, inplace=True)\n",
    "data"
   ]
  },
  {
   "cell_type": "code",
   "execution_count": 9,
   "id": "93cc610f-7a69-4f77-af58-c72d699f5852",
   "metadata": {},
   "outputs": [],
   "source": [
    "X = data['tokens']\n",
    "X = pad_sequences(X, padding='post')\n",
    "y = data['Liked']\n",
    "x_train, x_test, y_train, y_test = train_test_split(X, y, test_size=0.20, shuffle=True)"
   ]
  },
  {
   "cell_type": "code",
   "execution_count": 30,
   "id": "27ff0df6-43c9-43e3-b380-bf16368e5070",
   "metadata": {},
   "outputs": [
    {
     "name": "stdout",
     "output_type": "stream",
     "text": [
      "Epoch 1/5\n",
      "25/25 [==============================] - 161s 5s/step - loss: 7.2868 - accuracy: 0.5088 - val_loss: 7.6795 - val_accuracy: 0.3750\n",
      "Epoch 2/5\n",
      "25/25 [==============================] - 131s 5s/step - loss: 7.6658 - accuracy: 0.5312 - val_loss: 7.6795 - val_accuracy: 0.3750\n",
      "Epoch 3/5\n",
      "25/25 [==============================] - 130s 5s/step - loss: 7.3453 - accuracy: 0.5088 - val_loss: 3.1924 - val_accuracy: 0.6250\n",
      "Epoch 4/5\n",
      "25/25 [==============================] - 129s 5s/step - loss: 6.6994 - accuracy: 0.4688 - val_loss: 7.6795 - val_accuracy: 0.6250\n",
      "Epoch 5/5\n",
      "25/25 [==============================] - 133s 5s/step - loss: 7.6658 - accuracy: 0.4688 - val_loss: 7.6795 - val_accuracy: 0.6250\n"
     ]
    }
   ],
   "source": [
    "model.compile(loss='binary_crossentropy', optimizer='adam', metrics=['accuracy'])\n",
    "model_history = model.fit(x_train, y_train, batch_size, epochs, validation_data=(x_test, y_test))"
   ]
  },
  {
   "cell_type": "code",
   "execution_count": 11,
   "id": "4e0fdb7b-9686-443b-a673-a35c8e69db2e",
   "metadata": {},
   "outputs": [
    {
     "name": "stdout",
     "output_type": "stream",
     "text": [
      "Value of training accuracy is:  0.58125\n",
      "Value of training loss is:  0.6495489814214019\n",
      "Value of validation accuracy is:  0.4\n",
      "Value of validation loss is:  0.8476893256017405\n"
     ]
    }
   ],
   "source": [
    "log_reg = LogisticRegression(solver='liblinear', random_state=42)\n",
    "log_reg.fit(x_train, y_train)\n",
    "y_proba = log_reg.predict(x_test)\n",
    "train_acc = log_reg.score(x_train, y_train)#Get training accuracy\n",
    "print(\"Value of training accuracy is: \", train_acc)\n",
    "train_loss = log_loss(y_train, log_reg.predict_proba(x_train))#Get training loss\n",
    "print(\"Value of training loss is: \", train_loss)\n",
    "accuracy = accuracy_score(y_test, y_proba)#Get validation accuracy\n",
    "print(\"Value of validation accuracy is: \", accuracy)\n",
    "valid_loss = log_loss(y_test, log_reg.predict_proba(x_test))\n",
    "print(\"Value of validation loss is: \", valid_loss)"
   ]
  },
  {
   "cell_type": "code",
   "execution_count": 26,
   "id": "72b2925b-aa65-47af-9665-60c668c158ac",
   "metadata": {},
   "outputs": [
    {
     "name": "stdout",
     "output_type": "stream",
     "text": [
      "(800, 35)\n",
      "Epoch 1/10\n",
      "13/13 [==============================] - 1s 19ms/step - loss: 0.6935 - accuracy: 0.5063 - val_loss: 0.7021 - val_accuracy: 0.3750\n",
      "Epoch 2/10\n",
      "13/13 [==============================] - 0s 6ms/step - loss: 0.6918 - accuracy: 0.5312 - val_loss: 0.7097 - val_accuracy: 0.3750\n",
      "Epoch 3/10\n",
      "13/13 [==============================] - 0s 6ms/step - loss: 0.6917 - accuracy: 0.5312 - val_loss: 0.7069 - val_accuracy: 0.3750\n",
      "Epoch 4/10\n",
      "13/13 [==============================] - 0s 7ms/step - loss: 0.6914 - accuracy: 0.5312 - val_loss: 0.7095 - val_accuracy: 0.3750\n",
      "Epoch 5/10\n",
      "13/13 [==============================] - 0s 7ms/step - loss: 0.6915 - accuracy: 0.5312 - val_loss: 0.7126 - val_accuracy: 0.3750\n",
      "Epoch 6/10\n",
      "13/13 [==============================] - 0s 6ms/step - loss: 0.6912 - accuracy: 0.5312 - val_loss: 0.7108 - val_accuracy: 0.3750\n",
      "Epoch 7/10\n",
      "13/13 [==============================] - 0s 7ms/step - loss: 0.6916 - accuracy: 0.5312 - val_loss: 0.7034 - val_accuracy: 0.3750\n",
      "Epoch 8/10\n",
      "13/13 [==============================] - 0s 7ms/step - loss: 0.6913 - accuracy: 0.5312 - val_loss: 0.7062 - val_accuracy: 0.3750\n",
      "Epoch 9/10\n",
      "13/13 [==============================] - 0s 7ms/step - loss: 0.6908 - accuracy: 0.5312 - val_loss: 0.7084 - val_accuracy: 0.3750\n",
      "Epoch 10/10\n",
      "13/13 [==============================] - 0s 7ms/step - loss: 0.6883 - accuracy: 0.5312 - val_loss: 0.7095 - val_accuracy: 0.3750\n"
     ]
    }
   ],
   "source": [
    "vocab_size = 30000  # Number of unique words to consider\n",
    "max_len = 100  # Maximum length of each review (padding/truncation)\n",
    "\n",
    "print(x_train.shape)\n",
    "rnn_model = keras.models.Sequential([                        \n",
    "    keras.layers.Embedding(input_dim=vocab_size, output_dim=32, input_length=35),   # Embedding layer  \n",
    "    keras.layers.SimpleRNN(64, dropout=0.3, activation=\"relu\"),                    #RNN layer, hidden vector size 64\n",
    "    keras.layers.Dense(1, activation=\"sigmoid\")                       #Output layer, binary classification with 1 neuron and sigmoid\n",
    "])\n",
    "\n",
    "rnn_model.compile(loss=\"binary_crossentropy\", optimizer=\"Adam\", metrics=[\"accuracy\"])\n",
    "rnn_history = rnn_model.fit(x_train, y_train, epochs=10, batch_size=64, validation_data=(x_test, y_test))#validation_split=0.2)"
   ]
  },
  {
   "cell_type": "code",
   "execution_count": null,
   "id": "a19155a2-e70f-4098-827a-7f117e85d227",
   "metadata": {},
   "outputs": [],
   "source": []
  }
 ],
 "metadata": {
  "kernelspec": {
   "display_name": "Python 3 (ipykernel)",
   "language": "python",
   "name": "python3"
  },
  "language_info": {
   "codemirror_mode": {
    "name": "ipython",
    "version": 3
   },
   "file_extension": ".py",
   "mimetype": "text/x-python",
   "name": "python",
   "nbconvert_exporter": "python",
   "pygments_lexer": "ipython3",
   "version": "3.12.7"
  }
 },
 "nbformat": 4,
 "nbformat_minor": 5
}
